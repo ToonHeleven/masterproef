{
 "cells": [
  {
   "cell_type": "markdown",
   "metadata": {
    "collapsed": true,
    "pycharm": {
     "name": "#%% md\n"
    }
   },
   "source": [
    "# BIGRU model met embeddings\n",
    "## met embedding pre-training"
   ]
  },
  {
   "cell_type": "code",
   "execution_count": 1,
   "outputs": [],
   "source": [
    "from torch import optim\n",
    "from data.dataloader import DatasetLoader, PretrainLoader\n",
    "from torch.utils.data import DataLoader\n",
    "import torch\n",
    "from models.PreTrainEmbedding import PreTrainEmbedding\n",
    "from torch import nn\n",
    "from sklearn.metrics.pairwise import cosine_similarity\n",
    "import pandas as pd\n",
    "import numpy as np"
   ],
   "metadata": {
    "collapsed": false,
    "pycharm": {
     "name": "#%%\n"
    }
   }
  },
  {
   "cell_type": "markdown",
   "source": [
    "## 1. Dataset uitlezen"
   ],
   "metadata": {
    "collapsed": false
   }
  },
  {
   "cell_type": "code",
   "execution_count": 2,
   "outputs": [],
   "source": [
    "removeapps = [\"Screen on (locked)\",\n",
    "              \"Screen off (locked)\",\n",
    "              \"Screen on (unlocked)\",\n",
    "              \"Screen off\",\n",
    "              \"Samsung Experience Service\",\n",
    "              \"Package installer\",\n",
    "              \"System UI\",\n",
    "              \"Customisation Service\",\n",
    "              \"Configuration update\",\n",
    "              \"EmergencyManagerService\",\n",
    "              \"DeviceKeystring\",\n",
    "              \"Samsung Keyboard\",\n",
    "              \"HwModuleTest\",\n",
    "              \"Device shutdown\",\n",
    "              \"Device boot\"]\n",
    "pretraindataset = PretrainLoader(\"eventlog/phone_usage_cleaned.csv\",\n",
    "                                 nr_samples=2000, d=900, T=1200,\n",
    "                                 removeapps=removeapps,\n",
    "                                 nr_generated=100000)\n",
    "pretrain_dataloader = DataLoader(pretraindataset, batch_size=128)"
   ],
   "metadata": {
    "collapsed": false,
    "pycharm": {
     "name": "#%%\n"
    }
   }
  },
  {
   "cell_type": "markdown",
   "source": [
    "## 2. Embedding pre-train"
   ],
   "metadata": {
    "collapsed": false
   }
  },
  {
   "cell_type": "code",
   "execution_count": 3,
   "outputs": [
    {
     "name": "stdout",
     "output_type": "stream",
     "text": [
      "loss: 1.481\n",
      "Accuracy of the network is: 8.913443094629155\n",
      "loss: 22.516\n",
      "Accuracy of the network is: 14.940257352941176\n",
      "loss: 21.546\n",
      "Accuracy of the network is: 15.919916879795396\n",
      "loss: 21.292\n",
      "Accuracy of the network is: 16.185511908567776\n",
      "loss: 21.157\n",
      "Accuracy of the network is: 16.374230738491047\n"
     ]
    }
   ],
   "source": [
    "device = torch.device(\"cuda:0\" if torch.cuda.is_available() else \"cpu\")\n",
    "pretrainembedding = PreTrainEmbedding(max_apps=pretraindataset.nr_apps,\n",
    "                                      src_dim=4)\n",
    "pretrainembedding.to(device=device)\n",
    "criterion = nn.CrossEntropyLoss()\n",
    "optimizer = optim.Adam(pretrainembedding.parameters(), lr=0.0015)\n",
    "epochs = 100\n",
    "running_loss = 0.0\n",
    "total = 0\n",
    "correct = 0\n",
    "for j in range(epochs):\n",
    "    for prev_app_index, next_app_index in pretrain_dataloader:\n",
    "        prev_app_index, next_app_index = prev_app_index.to(device=device), next_app_index.to(device=device)\n",
    "\n",
    "        optimizer.zero_grad()\n",
    "        outputs = pretrainembedding(prev_app_index)\n",
    "        loss = criterion(outputs[0], next_app_index)\n",
    "        loss.backward()\n",
    "        optimizer.step()\n",
    "\n",
    "        total += 128\n",
    "        arg_maxs = torch.argmax(outputs, dim=2)  # collapse cols\n",
    "        num_correct = torch.sum(next_app_index==arg_maxs).item()\n",
    "        correct += num_correct\n",
    "\n",
    "        running_loss += loss.item()\n",
    "    if j%20==0:\n",
    "        print('loss: %.3f' %\n",
    "                  (running_loss / 2000))\n",
    "        running_loss = 0.0\n",
    "        print('Accuracy of the network is: ' + str(100 * correct / total))\n",
    "        total = 0\n",
    "        correct = 0"
   ],
   "metadata": {
    "collapsed": false,
    "pycharm": {
     "name": "#%%\n"
    }
   }
  },
  {
   "cell_type": "markdown",
   "source": [
    "## 3. Embedding evaluation"
   ],
   "metadata": {
    "collapsed": false
   }
  },
  {
   "cell_type": "code",
   "execution_count": 4,
   "outputs": [
    {
     "data": {
      "text/plain": "<matplotlib.collections.PathCollection at 0x2518bdb7688>"
     },
     "execution_count": 4,
     "metadata": {},
     "output_type": "execute_result"
    },
    {
     "data": {
      "text/plain": "<Figure size 432x288 with 1 Axes>",
      "image/png": "[encoded data removed]"
     },
     "metadata": {
      "needs_background": "light"
     },
     "output_type": "display_data"
    }
   ],
   "source": [
    "from matplotlib.pyplot import scatter\n",
    "from scipy.special import softmax\n",
    "\n",
    "embeddings = pretrainembedding.src_embedding.weight.detach().cpu().numpy()\n",
    "graphvertices = pretraindataset.graph\n",
    "embeddingsimilarity = []\n",
    "verticessimilarity = []\n",
    "\n",
    "embeddings = softmax(embeddings, axis=1)\n",
    "\n",
    "# 62*62-62\n",
    "for i in range(len(embeddings)):\n",
    "    for j in range(len(embeddings)):\n",
    "        if i!=j:\n",
    "            embeddingsimilarity.append(cosine_similarity(embeddings[i:i+1], embeddings[j:j+1])[0][0])\n",
    "            verticessimilarity.append(cosine_similarity(graphvertices[i:i+1], graphvertices[j:j+1])[0][0])\n",
    "\n",
    "scatter(verticessimilarity, embeddingsimilarity)"
   ],
   "metadata": {
    "collapsed": false,
    "pycharm": {
     "name": "#%%\n"
    }
   }
  },
  {
   "cell_type": "code",
   "execution_count": 5,
   "outputs": [
    {
     "name": "stdout",
     "output_type": "stream",
     "text": [
      "0.41893173172159837\n"
     ]
    }
   ],
   "source": [
    "def mean(someList):\n",
    "    total = 0\n",
    "    for a in someList:\n",
    "        total += float(a)\n",
    "    mean = total/len(someList)\n",
    "    return mean\n",
    "def standDev(someList):\n",
    "    listMean = mean(someList)\n",
    "    dev = 0.0\n",
    "    for i in range(len(someList)):\n",
    "        dev += (someList[i]-listMean)**2\n",
    "    dev = dev**(1/2.0)\n",
    "    return dev\n",
    "def correlCo(someList1, someList2):\n",
    "\n",
    "    # First establish the means and standard deviations for both lists.\n",
    "    xMean = mean(someList1)\n",
    "    yMean = mean(someList2)\n",
    "    xStandDev = standDev(someList1)\n",
    "    yStandDev = standDev(someList2)\n",
    "    # r numerator\n",
    "    rNum = 0.0\n",
    "    for i in range(len(someList1)):\n",
    "        rNum += (someList1[i]-xMean)*(someList2[i]-yMean)\n",
    "\n",
    "    # r denominator\n",
    "    rDen = xStandDev * yStandDev\n",
    "\n",
    "    r =  rNum/rDen\n",
    "    return r\n",
    "\n",
    "print(correlCo(embeddingsimilarity, verticessimilarity))\n",
    "# 0.4124 0.40612 0.4199 16\n",
    "# 0.4486 10\n",
    "# 0.4694 9\n",
    "# 0.5154 0.4744 8\n",
    "# 0.5010 0.4957 7\n",
    "# 0.5348 0.4970 0.5473 0.5078 6\n",
    "# 0.5029 0.4200 0.4570 5\n",
    "# 0.4865 0.4166 0.5554 4\n"
   ],
   "metadata": {
    "collapsed": false,
    "pycharm": {
     "name": "#%%\n"
    }
   }
  }
 ],
 "metadata": {
  "kernelspec": {
   "display_name": "Python 3",
   "language": "python",
   "name": "python3"
  },
  "language_info": {
   "codemirror_mode": {
    "name": "ipython",
    "version": 2
   },
   "file_extension": ".py",
   "mimetype": "text/x-python",
   "name": "python",
   "nbconvert_exporter": "python",
   "pygments_lexer": "ipython2",
   "version": "2.7.6"
  }
 },
 "nbformat": 4,
 "nbformat_minor": 0
}