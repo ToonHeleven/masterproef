{
 "cells": [
  {
   "cell_type": "markdown",
   "metadata": {
    "collapsed": true,
    "pycharm": {
     "name": "#%% md\n"
    }
   },
   "source": [
    "# Phone Event2Vec aanpak"
   ]
  },
  {
   "cell_type": "markdown",
   "source": [
    "## Library imports"
   ],
   "metadata": {
    "collapsed": false
   }
  },
  {
   "cell_type": "code",
   "execution_count": 3,
   "outputs": [],
   "source": [
    "import pandas as pd\n",
    "import numpy as np\n",
    "import math\n",
    "from datetime import datetime\n",
    "from random import randint\n",
    "import tensorflow as tf\n",
    "from tensorflow.keras.layers import Dot, Embedding, Flatten\n",
    "from tensorflow.keras import Model\n",
    "from tensorflow.keras.optimizers import Adam\n",
    "from tqdm.keras import TqdmCallback\n",
    "import tqdm.notebook as tq\n",
    "import io\n",
    "import matplotlib.pyplot as plt"
   ],
   "metadata": {
    "collapsed": false,
    "pycharm": {
     "name": "#%%\n"
    }
   }
  },
  {
   "cell_type": "markdown",
   "source": [
    "## Lees de event log dataset uit"
   ],
   "metadata": {
    "collapsed": false
   }
  },
  {
   "cell_type": "code",
   "execution_count": 5,
   "outputs": [
    {
     "data": {
      "text/plain": "                Appname        Date      Time Duration            Timestamp  \\\n0   Screen off (locked)  17/05/2019  18:25:07  0:00:02  17/05/2019 18:25:07   \n1  Screen on (unlocked)  17/05/2019  18:25:10  0:00:01  17/05/2019 18:25:10   \n\n   TimeDiff  Rownumber  \n0         3          1  \n1         0          2  ",
      "text/html": "<div>\n<style scoped>\n    .dataframe tbody tr th:only-of-type {\n        vertical-align: middle;\n    }\n\n    .dataframe tbody tr th {\n        vertical-align: top;\n    }\n\n    .dataframe thead th {\n        text-align: right;\n    }\n</style>\n<table border=\"1\" class=\"dataframe\">\n  <thead>\n    <tr style=\"text-align: right;\">\n      <th></th>\n      <th>Appname</th>\n      <th>Date</th>\n      <th>Time</th>\n      <th>Duration</th>\n      <th>Timestamp</th>\n      <th>TimeDiff</th>\n      <th>Rownumber</th>\n    </tr>\n  </thead>\n  <tbody>\n    <tr>\n      <th>0</th>\n      <td>Screen off (locked)</td>\n      <td>17/05/2019</td>\n      <td>18:25:07</td>\n      <td>0:00:02</td>\n      <td>17/05/2019 18:25:07</td>\n      <td>3</td>\n      <td>1</td>\n    </tr>\n    <tr>\n      <th>1</th>\n      <td>Screen on (unlocked)</td>\n      <td>17/05/2019</td>\n      <td>18:25:10</td>\n      <td>0:00:01</td>\n      <td>17/05/2019 18:25:10</td>\n      <td>0</td>\n      <td>2</td>\n    </tr>\n  </tbody>\n</table>\n</div>"
     },
     "execution_count": 5,
     "metadata": {},
     "output_type": "execute_result"
    }
   ],
   "source": [
    "eventlog = pd.read_csv(\"../eventlog/phone_usage_cleaned.csv\")\n",
    "eventlog = eventlog.drop(eventlog.columns[0], 1)\n",
    "eventlog.head(2)"
   ],
   "metadata": {
    "collapsed": false,
    "pycharm": {
     "name": "#%%\n"
    }
   }
  },
  {
   "cell_type": "markdown",
   "source": [
    "## Clean en Filter de event log"
   ],
   "metadata": {
    "collapsed": false
   }
  },
  {
   "cell_type": "code",
   "execution_count": 6,
   "outputs": [
    {
     "name": "stdout",
     "output_type": "stream",
     "text": [
      "undesiredapps reduceerde het aantal events met: 57079\n",
      "van 90716 naar 33637\n"
     ]
    },
    {
     "data": {
      "text/plain": "    Appname        Date      Time Duration           Timestamp  TimeDiff  \\\n0  Settings  17/05/2019  18:28:30  0:00:03 2019-05-17 18:28:30         3   \n1  Settings  17/05/2019  18:30:17  0:00:03 2019-05-17 18:30:17         3   \n\n   Rownumber  Seconds  Weeks  Days  \n0          5    203.0      0     0  \n1         10    310.0      0     0  ",
      "text/html": "<div>\n<style scoped>\n    .dataframe tbody tr th:only-of-type {\n        vertical-align: middle;\n    }\n\n    .dataframe tbody tr th {\n        vertical-align: top;\n    }\n\n    .dataframe thead th {\n        text-align: right;\n    }\n</style>\n<table border=\"1\" class=\"dataframe\">\n  <thead>\n    <tr style=\"text-align: right;\">\n      <th></th>\n      <th>Appname</th>\n      <th>Date</th>\n      <th>Time</th>\n      <th>Duration</th>\n      <th>Timestamp</th>\n      <th>TimeDiff</th>\n      <th>Rownumber</th>\n      <th>Seconds</th>\n      <th>Weeks</th>\n      <th>Days</th>\n    </tr>\n  </thead>\n  <tbody>\n    <tr>\n      <th>0</th>\n      <td>Settings</td>\n      <td>17/05/2019</td>\n      <td>18:28:30</td>\n      <td>0:00:03</td>\n      <td>2019-05-17 18:28:30</td>\n      <td>3</td>\n      <td>5</td>\n      <td>203.0</td>\n      <td>0</td>\n      <td>0</td>\n    </tr>\n    <tr>\n      <th>1</th>\n      <td>Settings</td>\n      <td>17/05/2019</td>\n      <td>18:30:17</td>\n      <td>0:00:03</td>\n      <td>2019-05-17 18:30:17</td>\n      <td>3</td>\n      <td>10</td>\n      <td>310.0</td>\n      <td>0</td>\n      <td>0</td>\n    </tr>\n  </tbody>\n</table>\n</div>"
     },
     "execution_count": 6,
     "metadata": {},
     "output_type": "execute_result"
    }
   ],
   "source": [
    "def cleaneventlog(eventlog, undesiredapps):\n",
    "    eventlog = eventlog.copy()\n",
    "    eventlog.loc[eventlog.Appname==\"à®µà®°à¯ˆà®ªà®Ÿà®®à¯\", \"Appname\"] = \"Tamil Nadu Village Map\"\n",
    "    eventlog[\"Timestamp\"] = eventlog[\"Timestamp\"].apply(lambda x: datetime.strptime(x, '%d/%m/%Y %H:%M:%S'))\n",
    "    eventlog[\"Seconds\"] = eventlog[\"Timestamp\"].apply(lambda x: (x-eventlog[\"Timestamp\"][0]).total_seconds())\n",
    "    eventlog[\"Weeks\"] =  (eventlog[\"Seconds\"]//(60*60*24*7)).astype(np.int)\n",
    "    eventlog[\"Days\"] =  (eventlog[\"Seconds\"]//(60*60*24)).astype(np.int)\n",
    "\n",
    "    origsize=len(eventlog)\n",
    "    eventlog = eventlog[~eventlog.Appname.isin(undesiredapps)]\n",
    "    print(\"undesiredapps reduceerde het aantal events met: \" + str(origsize-len(eventlog))\n",
    "          + \"\\nvan \" + str(origsize) + \" naar \" + str(len(eventlog)))\n",
    "\n",
    "    eventlog = eventlog.reset_index(drop=True)\n",
    "\n",
    "    return eventlog\n",
    "\n",
    "undesiredapps = [\"Screen on (locked)\",\n",
    "                 \"Screen off (locked)\",\n",
    "                 \"Screen on (unlocked)\",\n",
    "                 \"Screen off\",\n",
    "                 \"Samsung Experience Service\",\n",
    "                 \"Package installer\",\n",
    "                 \"System UI\",\n",
    "                 \"Customisation Service\",\n",
    "                 \"Configuration update\",\n",
    "                 \"EmergencyManagerService\",\n",
    "                 \"DeviceKeystring\",\n",
    "                 \"Samsung Keyboard\",\n",
    "                 \"HwModuleTest\",\n",
    "                 \"Device shutdown\",\n",
    "                 \"Device boot\"]\n",
    "cleanedeventlog = cleaneventlog(eventlog, undesiredapps)\n",
    "\n",
    "cleanedeventlog.head(2)"
   ],
   "metadata": {
    "collapsed": false,
    "pycharm": {
     "name": "#%%\n"
    }
   }
  },
  {
   "cell_type": "markdown",
   "source": [
    "## Analyseer de event log"
   ],
   "metadata": {
    "collapsed": false
   }
  },
  {
   "cell_type": "code",
   "execution_count": 9,
   "outputs": [
    {
     "data": {
      "text/plain": "<Figure size 432x288 with 1 Axes>",
      "image/png": "[encoded data removed]"
     },
     "metadata": {
      "needs_background": "light"
     },
     "output_type": "display_data"
    }
   ],
   "source": [
    "def getnrofapps(appname: str, apps: dict):\n",
    "    if apps.get(appname) == None:\n",
    "        apps[appname] = len(apps)\n",
    "    return len(apps)\n",
    "\n",
    "apps = {}\n",
    "cleanedeventlog[\"Nrusedapps\"]= [getnrofapps(appname, apps) for appname in cleanedeventlog.Appname]\n",
    "\n",
    "data = cleanedeventlog[[\"Nrusedapps\"]]\n",
    "\n",
    "plt.plot( range(len(data)), 'Nrusedapps', data=data, marker='', color='olive', linewidth=1,\n",
    "          label=\"cumulatieve gebruikte applicaties\")\n",
    "plt.legend()\n",
    "plt.savefig(\"../outputdata/cumulativeapps.png\")\n",
    "plt.show()"
   ],
   "metadata": {
    "collapsed": false,
    "pycharm": {
     "name": "#%%\n"
    }
   }
  },
  {
   "cell_type": "markdown",
   "source": [
    "## Event connection graph"
   ],
   "metadata": {
    "collapsed": false,
    "pycharm": {
     "name": "#%% md\n"
    }
   }
  },
  {
   "cell_type": "code",
   "execution_count": 227,
   "outputs": [],
   "source": [
    "import importlib\n",
    "import sys\n",
    "from EventConnectionGraph import EventConnectionGraph\n",
    "importlib.reload(sys.modules['EventConnectionGraph'])\n",
    "from EventConnectionGraph import EventConnectionGraph\n",
    "\n",
    "graph = EventConnectionGraph(shape=(200,200),\n",
    "                             d=900,\n",
    "                             T=1200)\n",
    "\n",
    "predictions = []\n",
    "\n",
    "for index in range(len(cleanedeventlog)-1):\n",
    "    graph.update(appnames=cleanedeventlog.Appname.iloc[:index+1],\n",
    "                 apptimes=cleanedeventlog.Seconds.iloc[:index+1])\n",
    "    predictions.append(graph.predict(apphistory=cleanedeventlog.Appname.iloc[index],\n",
    "                                     topk=5))"
   ],
   "metadata": {
    "collapsed": false,
    "pycharm": {
     "name": "#%%\n"
    }
   }
  },
  {
   "cell_type": "code",
   "execution_count": 228,
   "outputs": [
    {
     "data": {
      "text/plain": "    Appname        Date      Time Duration           Timestamp  TimeDiff  \\\n0  Settings  17/05/2019  18:28:30  0:00:03 2019-05-17 18:28:30         3   \n1  Settings  17/05/2019  18:30:17  0:00:03 2019-05-17 18:30:17         3   \n\n   Rownumber  Seconds  Weeks  Days  Nrusedapps  PretrainAccuracy  \\\n0          5    203.0      0     0           1             False   \n1         10    310.0      0     0           1             False   \n\n   BigruAccuracy  CombiAccuracy  Accuracy  \n0          False          False     False  \n1          False          False      True  ",
      "text/html": "<div>\n<style scoped>\n    .dataframe tbody tr th:only-of-type {\n        vertical-align: middle;\n    }\n\n    .dataframe tbody tr th {\n        vertical-align: top;\n    }\n\n    .dataframe thead th {\n        text-align: right;\n    }\n</style>\n<table border=\"1\" class=\"dataframe\">\n  <thead>\n    <tr style=\"text-align: right;\">\n      <th></th>\n      <th>Appname</th>\n      <th>Date</th>\n      <th>Time</th>\n      <th>Duration</th>\n      <th>Timestamp</th>\n      <th>TimeDiff</th>\n      <th>Rownumber</th>\n      <th>Seconds</th>\n      <th>Weeks</th>\n      <th>Days</th>\n      <th>Nrusedapps</th>\n      <th>PretrainAccuracy</th>\n      <th>BigruAccuracy</th>\n      <th>CombiAccuracy</th>\n      <th>Accuracy</th>\n    </tr>\n  </thead>\n  <tbody>\n    <tr>\n      <th>0</th>\n      <td>Settings</td>\n      <td>17/05/2019</td>\n      <td>18:28:30</td>\n      <td>0:00:03</td>\n      <td>2019-05-17 18:28:30</td>\n      <td>3</td>\n      <td>5</td>\n      <td>203.0</td>\n      <td>0</td>\n      <td>0</td>\n      <td>1</td>\n      <td>False</td>\n      <td>False</td>\n      <td>False</td>\n      <td>False</td>\n    </tr>\n    <tr>\n      <th>1</th>\n      <td>Settings</td>\n      <td>17/05/2019</td>\n      <td>18:30:17</td>\n      <td>0:00:03</td>\n      <td>2019-05-17 18:30:17</td>\n      <td>3</td>\n      <td>10</td>\n      <td>310.0</td>\n      <td>0</td>\n      <td>0</td>\n      <td>1</td>\n      <td>False</td>\n      <td>False</td>\n      <td>False</td>\n      <td>True</td>\n    </tr>\n  </tbody>\n</table>\n</div>"
     },
     "execution_count": 228,
     "metadata": {},
     "output_type": "execute_result"
    }
   ],
   "source": [
    "from evaluation import evaluate\n",
    "\n",
    "cleanedeventlog[\"Accuracy\"] = evaluate(predictions=predictions,\n",
    "                                       labels=cleanedeventlog.Appname.iloc[1:].to_numpy(),\n",
    "                                       padfirst=1)\n",
    "\n",
    "cleanedeventlog.head(2)"
   ],
   "metadata": {
    "collapsed": false,
    "pycharm": {
     "name": "#%%\n"
    }
   }
  },
  {
   "cell_type": "code",
   "execution_count": 41,
   "outputs": [
    {
     "name": "stdout",
     "output_type": "stream",
     "text": [
      "0.7241430567529803\n"
     ]
    },
    {
     "data": {
      "text/plain": "Days\n0      0.535088\n1      0.670000\n2      0.768595\n3      0.500000\n4      0.694444\n         ...   \n189    0.756219\n190    0.795918\n191    0.715447\n192    0.771084\n193    0.277778\nName: Accuracy, Length: 194, dtype: float64"
     },
     "execution_count": 41,
     "metadata": {},
     "output_type": "execute_result"
    }
   ],
   "source": [
    "print(cleanedeventlog.Accuracy.mean())\n",
    "cleanedeventlog.groupby(\"Days\").Accuracy.mean()"
   ],
   "metadata": {
    "collapsed": false,
    "pycharm": {
     "name": "#%%\n"
    }
   }
  },
  {
   "cell_type": "markdown",
   "source": [
    "## Online BiGRU model with graph embedding"
   ],
   "metadata": {
    "collapsed": false
   }
  },
  {
   "cell_type": "code",
   "execution_count": 225,
   "outputs": [
    {
     "name": "stdout",
     "output_type": "stream",
     "text": [
      "Model: \"bi_gru_116\"\n",
      "_________________________________________________________________\n",
      "Layer (type)                 Output Shape              Param #   \n",
      "=================================================================\n",
      "embedding (Embedding)        (None, 10, 200)           40000     \n",
      "_________________________________________________________________\n",
      "bidirectional_110 (Bidirecti (None, 128)               102144    \n",
      "_________________________________________________________________\n",
      "dropout_110 (Dropout)        (None, 128)               0         \n",
      "_________________________________________________________________\n",
      "dense_116 (Dense)            (None, 200)               25800     \n",
      "=================================================================\n",
      "Total params: 167,944\n",
      "Trainable params: 127,944\n",
      "Non-trainable params: 40,000\n",
      "_________________________________________________________________\n",
      "None\n"
     ]
    },
    {
     "data": {
      "text/plain": "  0%|          | 0/33625 [00:00<?, ?it/s]",
      "application/vnd.jupyter.widget-view+json": {
       "version_major": 2,
       "version_minor": 0,
       "model_id": "3cf9e35b626c407eb3056ba5acca42f0"
      }
     },
     "metadata": {},
     "output_type": "display_data"
    }
   ],
   "source": [
    "importlib.reload(sys.modules['BiGRU'])\n",
    "from BiGRU import BiGRU\n",
    "from tensorflow.keras.optimizers import SGD\n",
    "importlib.reload(sys.modules['EventConnectionGraph'])\n",
    "from EventConnectionGraph import EventConnectionGraph\n",
    "\n",
    "graph = EventConnectionGraph(shape=(200,200),\n",
    "                             d=900,\n",
    "                             T=1200)\n",
    "bigru = BiGRU(input_dim=200,\n",
    "              output_dim=200,\n",
    "              seq_length=10,\n",
    "              embedding=\"onehot\")\n",
    "bigru.compile(loss='categorical_crossentropy',\n",
    "              optimizer=SGD(learning_rate=0.001),\n",
    "              metrics=[\"accuracy\"])\n",
    "\n",
    "for index in range(11):\n",
    "    graph.update(appnames=cleanedeventlog.Appname.iloc[:index+1],\n",
    "                 apptimes=cleanedeventlog.Seconds.iloc[:index+1])\n",
    "\n",
    "predictions = []\n",
    "for index in tq.tqdm(range(11, len(cleanedeventlog)-1)):\n",
    "    graph.update(appnames=cleanedeventlog.Appname.iloc[:index+1],\n",
    "                 apptimes=cleanedeventlog.Seconds.iloc[:index+1])\n",
    "    bigru.updateembedding(graph.graph)\n",
    "    history = bigru.livefit(appnames=cleanedeventlog.Appname.iloc[index-11:index])\n",
    "    predictions.append(bigru.livepredict(appnames=cleanedeventlog.Appname.iloc[index-11:index],\n",
    "                                         topk=5))"
   ],
   "metadata": {
    "collapsed": false,
    "pycharm": {
     "name": "#%%\n"
    }
   }
  },
  {
   "cell_type": "code",
   "execution_count": 226,
   "outputs": [
    {
     "data": {
      "text/plain": "    Appname        Date      Time Duration           Timestamp  TimeDiff  \\\n0  Settings  17/05/2019  18:28:30  0:00:03 2019-05-17 18:28:30         3   \n1  Settings  17/05/2019  18:30:17  0:00:03 2019-05-17 18:30:17         3   \n\n   Rownumber  Seconds  Weeks  Days  Nrusedapps  PretrainAccuracy  \\\n0          5    203.0      0     0           1             False   \n1         10    310.0      0     0           1             False   \n\n   BigruAccuracy  CombiAccuracy  \n0          False          False  \n1          False          False  ",
      "text/html": "<div>\n<style scoped>\n    .dataframe tbody tr th:only-of-type {\n        vertical-align: middle;\n    }\n\n    .dataframe tbody tr th {\n        vertical-align: top;\n    }\n\n    .dataframe thead th {\n        text-align: right;\n    }\n</style>\n<table border=\"1\" class=\"dataframe\">\n  <thead>\n    <tr style=\"text-align: right;\">\n      <th></th>\n      <th>Appname</th>\n      <th>Date</th>\n      <th>Time</th>\n      <th>Duration</th>\n      <th>Timestamp</th>\n      <th>TimeDiff</th>\n      <th>Rownumber</th>\n      <th>Seconds</th>\n      <th>Weeks</th>\n      <th>Days</th>\n      <th>Nrusedapps</th>\n      <th>PretrainAccuracy</th>\n      <th>BigruAccuracy</th>\n      <th>CombiAccuracy</th>\n    </tr>\n  </thead>\n  <tbody>\n    <tr>\n      <th>0</th>\n      <td>Settings</td>\n      <td>17/05/2019</td>\n      <td>18:28:30</td>\n      <td>0:00:03</td>\n      <td>2019-05-17 18:28:30</td>\n      <td>3</td>\n      <td>5</td>\n      <td>203.0</td>\n      <td>0</td>\n      <td>0</td>\n      <td>1</td>\n      <td>False</td>\n      <td>False</td>\n      <td>False</td>\n    </tr>\n    <tr>\n      <th>1</th>\n      <td>Settings</td>\n      <td>17/05/2019</td>\n      <td>18:30:17</td>\n      <td>0:00:03</td>\n      <td>2019-05-17 18:30:17</td>\n      <td>3</td>\n      <td>10</td>\n      <td>310.0</td>\n      <td>0</td>\n      <td>0</td>\n      <td>1</td>\n      <td>False</td>\n      <td>False</td>\n      <td>False</td>\n    </tr>\n  </tbody>\n</table>\n</div>"
     },
     "execution_count": 226,
     "metadata": {},
     "output_type": "execute_result"
    }
   ],
   "source": [
    "importlib.reload(sys.modules['evaluation'])\n",
    "from evaluation import evaluate\n",
    "\n",
    "cleanedeventlog[\"CombiAccuracy\"] = evaluate(predictions=predictions,\n",
    "                                       labels=cleanedeventlog.Appname.iloc[12:].to_numpy(),\n",
    "                                       padfirst=12)\n",
    "\n",
    "cleanedeventlog.head(2)"
   ],
   "metadata": {
    "collapsed": false,
    "pycharm": {
     "name": "#%%\n"
    }
   }
  },
  {
   "cell_type": "code",
   "execution_count": 49,
   "outputs": [
    {
     "name": "stdout",
     "output_type": "stream",
     "text": [
      "0.6556470553259803\n"
     ]
    },
    {
     "data": {
      "text/plain": "Days\n0      0.409357\n1      0.615000\n2      0.636364\n3      0.360000\n4      0.638889\n         ...   \n189    0.796020\n190    0.755102\n191    0.747967\n192    0.674699\n193    0.222222\nName: CombiAccuracy, Length: 194, dtype: float64"
     },
     "execution_count": 49,
     "metadata": {},
     "output_type": "execute_result"
    }
   ],
   "source": [
    "print(cleanedeventlog.CombiAccuracy.mean())\n",
    "cleanedeventlog.groupby(\"Days\").CombiAccuracy.mean()"
   ],
   "metadata": {
    "collapsed": false,
    "pycharm": {
     "name": "#%%\n"
    }
   }
  },
  {
   "cell_type": "markdown",
   "source": [
    "## Online BiGRU model"
   ],
   "metadata": {
    "collapsed": false
   }
  },
  {
   "cell_type": "code",
   "execution_count": 223,
   "outputs": [
    {
     "name": "stdout",
     "output_type": "stream",
     "text": [
      "Model: \"bi_gru_115\"\n",
      "_________________________________________________________________\n",
      "Layer (type)                 Output Shape              Param #   \n",
      "=================================================================\n",
      "embedding (Embedding)        (None, 10, 143)           20449     \n",
      "_________________________________________________________________\n",
      "bidirectional_109 (Bidirecti (None, 128)               80256     \n",
      "_________________________________________________________________\n",
      "dropout_109 (Dropout)        (None, 128)               0         \n",
      "_________________________________________________________________\n",
      "dense_115 (Dense)            (None, 143)               18447     \n",
      "=================================================================\n",
      "Total params: 119,152\n",
      "Trainable params: 98,703\n",
      "Non-trainable params: 20,449\n",
      "_________________________________________________________________\n",
      "None\n"
     ]
    },
    {
     "data": {
      "text/plain": "  0%|          | 0/33625 [00:00<?, ?it/s]",
      "application/vnd.jupyter.widget-view+json": {
       "version_major": 2,
       "version_minor": 0,
       "model_id": "81b68712a16a403795dff2845434fa0e"
      }
     },
     "metadata": {},
     "output_type": "display_data"
    }
   ],
   "source": [
    "from BiGRU import BiGRU\n",
    "importlib.reload(sys.modules['BiGRU'])\n",
    "from tensorflow.keras.optimizers import SGD\n",
    "from BiGRU import BiGRU\n",
    "from tensorflow.keras.optimizers import SGD\n",
    "\n",
    "numofapps = len(cleanedeventlog.Appname.drop_duplicates())\n",
    "\n",
    "bigru = BiGRU(input_dim=numofapps,\n",
    "              output_dim=numofapps,\n",
    "              seq_length=10,\n",
    "              embedding=\"onehot\")\n",
    "bigru.compile(loss='categorical_crossentropy',\n",
    "              optimizer=SGD(learning_rate=0.001),\n",
    "              metrics=[\"accuracy\"])\n",
    "\n",
    "predictions = []\n",
    "for index in tq.tqdm(range(11, len(cleanedeventlog)-1)):\n",
    "    history = bigru.livefit(appnames=cleanedeventlog.Appname.iloc[index-11:index])\n",
    "    predictions.append(bigru.livepredict(appnames=cleanedeventlog.Appname.iloc[index-11:index],\n",
    "                                         topk=5))"
   ],
   "metadata": {
    "collapsed": false,
    "pycharm": {
     "name": "#%%\n"
    }
   }
  },
  {
   "cell_type": "code",
   "execution_count": 224,
   "outputs": [
    {
     "data": {
      "text/plain": "    Appname        Date      Time Duration           Timestamp  TimeDiff  \\\n0  Settings  17/05/2019  18:28:30  0:00:03 2019-05-17 18:28:30         3   \n1  Settings  17/05/2019  18:30:17  0:00:03 2019-05-17 18:30:17         3   \n\n   Rownumber  Seconds  Weeks  Days  Nrusedapps  PretrainAccuracy  \\\n0          5    203.0      0     0           1             False   \n1         10    310.0      0     0           1             False   \n\n   BigruAccuracy  \n0          False  \n1          False  ",
      "text/html": "<div>\n<style scoped>\n    .dataframe tbody tr th:only-of-type {\n        vertical-align: middle;\n    }\n\n    .dataframe tbody tr th {\n        vertical-align: top;\n    }\n\n    .dataframe thead th {\n        text-align: right;\n    }\n</style>\n<table border=\"1\" class=\"dataframe\">\n  <thead>\n    <tr style=\"text-align: right;\">\n      <th></th>\n      <th>Appname</th>\n      <th>Date</th>\n      <th>Time</th>\n      <th>Duration</th>\n      <th>Timestamp</th>\n      <th>TimeDiff</th>\n      <th>Rownumber</th>\n      <th>Seconds</th>\n      <th>Weeks</th>\n      <th>Days</th>\n      <th>Nrusedapps</th>\n      <th>PretrainAccuracy</th>\n      <th>BigruAccuracy</th>\n    </tr>\n  </thead>\n  <tbody>\n    <tr>\n      <th>0</th>\n      <td>Settings</td>\n      <td>17/05/2019</td>\n      <td>18:28:30</td>\n      <td>0:00:03</td>\n      <td>2019-05-17 18:28:30</td>\n      <td>3</td>\n      <td>5</td>\n      <td>203.0</td>\n      <td>0</td>\n      <td>0</td>\n      <td>1</td>\n      <td>False</td>\n      <td>False</td>\n    </tr>\n    <tr>\n      <th>1</th>\n      <td>Settings</td>\n      <td>17/05/2019</td>\n      <td>18:30:17</td>\n      <td>0:00:03</td>\n      <td>2019-05-17 18:30:17</td>\n      <td>3</td>\n      <td>10</td>\n      <td>310.0</td>\n      <td>0</td>\n      <td>0</td>\n      <td>1</td>\n      <td>False</td>\n      <td>False</td>\n    </tr>\n  </tbody>\n</table>\n</div>"
     },
     "execution_count": 224,
     "metadata": {},
     "output_type": "execute_result"
    }
   ],
   "source": [
    "importlib.reload(sys.modules['evaluation'])\n",
    "from evaluation import evaluate\n",
    "\n",
    "cleanedeventlog[\"BigruAccuracy\"] = evaluate(predictions=predictions,\n",
    "                                       labels=cleanedeventlog.Appname.iloc[12:].to_numpy(),\n",
    "                                       padfirst=12)\n",
    "\n",
    "cleanedeventlog.head(2)"
   ],
   "metadata": {
    "collapsed": false,
    "pycharm": {
     "name": "#%%\n"
    }
   }
  },
  {
   "cell_type": "code",
   "execution_count": 34,
   "outputs": [
    {
     "name": "stdout",
     "output_type": "stream",
     "text": [
      "0.6597496804114517\n"
     ]
    },
    {
     "data": {
      "text/plain": "Days\n0      0.356725\n1      0.585000\n2      0.628099\n3      0.320000\n4      0.644444\n         ...   \n189    0.781095\n190    0.739796\n191    0.756098\n192    0.686747\n193    0.222222\nName: BigruAccuracy, Length: 194, dtype: float64"
     },
     "execution_count": 34,
     "metadata": {},
     "output_type": "execute_result"
    }
   ],
   "source": [
    "print(cleanedeventlog.BigruAccuracy.mean())\n",
    "cleanedeventlog.groupby(\"Days\").BigruAccuracy.mean()"
   ],
   "metadata": {
    "collapsed": false,
    "pycharm": {
     "name": "#%%\n"
    }
   }
  },
  {
   "cell_type": "markdown",
   "source": [
    "## BiGRU from pre trained app embeddings"
   ],
   "metadata": {
    "collapsed": false
   }
  },
  {
   "cell_type": "code",
   "execution_count": 5,
   "outputs": [
    {
     "name": "stdout",
     "output_type": "stream",
     "text": [
      "Model: \"sequential\"\n",
      "_________________________________________________________________\n",
      "Layer (type)                 Output Shape              Param #   \n",
      "=================================================================\n",
      "embedding (Embedding)        (None, 1, 4)              256       \n",
      "_________________________________________________________________\n",
      "dense (Dense)                (None, 1, 64)             320       \n",
      "=================================================================\n",
      "Total params: 576\n",
      "Trainable params: 576\n",
      "Non-trainable params: 0\n",
      "_________________________________________________________________\n"
     ]
    }
   ],
   "source": [
    "from tensorflow.keras import Sequential\n",
    "from tensorflow.keras.layers import Embedding, Dense, InputLayer\n",
    "from tensorflow.keras.optimizers import Adam\n",
    "\n",
    "trainingset = cleanedeventlog[cleanedeventlog.Weeks<2]\n",
    "numofapps = len(trainingset.Appname.drop_duplicates())\n",
    "\n",
    "nextapppredictor = Sequential()\n",
    "nextapppredictor.add(InputLayer(input_shape=(1,)))\n",
    "nextapppredictor.add(Embedding(input_dim=numofapps,\n",
    "                               output_dim=4,\n",
    "                               embeddings_initializer=\"uniform\",\n",
    "                               trainable=True,\n",
    "                               mask_zero=False,\n",
    "                               name=\"embedding\"))\n",
    "nextapppredictor.add(Dense(numofapps, activation=\"softmax\"))\n",
    "nextapppredictor.compile(loss='categorical_crossentropy',\n",
    "                         optimizer=Adam(learning_rate=0.001),\n",
    "                         metrics=[\"accuracy\"])\n",
    "nextapppredictor.summary()"
   ],
   "metadata": {
    "collapsed": false,
    "pycharm": {
     "name": "#%%\n"
    }
   }
  },
  {
   "cell_type": "code",
   "execution_count": 6,
   "outputs": [],
   "source": [
    "import importlib\n",
    "import sys\n",
    "from EventConnectionGraph import EventConnectionGraph\n",
    "importlib.reload(sys.modules['EventConnectionGraph'])\n",
    "\n",
    "trainingset = cleanedeventlog[cleanedeventlog.Weeks<2]\n",
    "numofapps = len(trainingset.Appname.drop_duplicates())\n",
    "\n",
    "graph = EventConnectionGraph(shape=(numofapps,numofapps),\n",
    "                             d=900,\n",
    "                             T=1200)\n",
    "\n",
    "for index in range(len(trainingset)):\n",
    "    graph.update(appnames=trainingset.Appname.iloc[:index+1],\n",
    "                 apptimes=trainingset.Seconds.iloc[:index+1])"
   ],
   "metadata": {
    "collapsed": false,
    "pycharm": {
     "name": "#%%\n"
    }
   }
  },
  {
   "cell_type": "code",
   "execution_count": 7,
   "outputs": [
    {
     "name": "stdout",
     "output_type": "stream",
     "text": [
      "6250/6250 [==============================] - 2s 374us/step - loss: 2.1764 - accuracy: 0.3296\b\b\b\b\b\b\b\b\b\b\b\b\b\b\b\b\b\b\b\b\b\b\b\b\b\b\b\b\b\b\b\b\b\b\b\b\b\b\b\b\b\b\b\b\b\b\b\b\b\b\b\b\b\b\b\b\b\b\b\b\b\b\b\b\b\b\b\b\b\b\b\b\b\b\b\b\b\b\b\b\b\b\b\b\b\b\b\b\b\b\b\b\b\b\b\b\b\b\b\b\b\b\b\b\b\b\b\b\b\b\b\b\b\b\b\b\b\b\b\b\b\b\b\b\b\b\b\b\b\b\b\b\b\b\b\b\b\b\b\b\b\b\b\b\b\b\b\b\b\b\b\b\b\b\b\b\b\b\b\b\b\b\b\b\b\b\b\b\b\b\b\b\b\b\b\b\b\b\b\b\b\b\b\b\b\b\b\b\b\b\b\b\b\b\b\b\b\b\b\b\b\b\b\b\b\b\b\b\b\b\b\b\b\b\b\b\b\b\b\b\b\b\b\b\b\b\b\b\b\b\b\b\b\b\b\b\b\b\b\b\b\b\b\b\b\b\b\b\b\b\b\b\b\b\b\b\b\b\b\b\b\b\b\b\b\b\b\b\b\b\b\b\b\b\b\b\b\b\b\b\b\b\b\b\b\b\b\b\b\b\b\b\b\b\b\b\b\b\b\b\b\b\b\b\b\b\b\b\b\b\b\b\b\b\b\b\b\b\b\b\b\b\b\b\b\b\b\b\b\b\b\b\b\b\b\b\b\b\b\b\b\b\b\b\b\b\b\b\b\b\b\b\b\b\b\b\b\b\b\b\b\b\b\b\b\b\b\b\b\b\b\b\b\b\b\b\b\b\b\b\b\b\b\b\b\b\b\b\b\b\b\b\b\b\b\b\b\b\b\b\b\b\b\b\b\b\b\b\b\b\b\b\b\b\b\b\b\b\b\b\b\b\b\b\b\b\b\b\b\b\b\b\b\b\b\b\b\b\b\b\b\b\b\b\b\b\b\b\b\b\b\b\b\b\b\b\b\b\b\b\b\b\b\b\b\b\b\b\b\b\b\b\b\b\b\b\b\b\b\b\b\b\b\b\b\b\b\b\b\b\b\b\b\b\b\b\b\b\b\b\b\b\b\b\b\b\b\b\b\b\b\b\b\b\b\b\b\b\b\b\b\b\b\b\b\b\b\b\b\b\b\b\b\b\b\b\b\b\b\b\b\b\b\b\b\b\b\b\b\b\b\b\b\b\b\b\b\b\b\b\b\b\b\b\b\b\b\b\b\b\b\b\b\b\b\b\b\b\b\b\b\b\b\b\b\b\b\b\b\b\b\b\b\b\b\b\b\b\b\b\b\b\b\b\b\b\b\b\b\b\b\b\b\b\b\b\b\b\b\b\b\b\b\b\b\b\b\b\b\b\b\b\b\b\b\b\b\b\b\b\b\b\b\b\b\b\b\b\b\b\b\b\b\b\b\b\b\b\b\b\b\b\b\b\b\b\b\b\b\b\b\b\b\b\b\b\b\b\b\b\b\b\b\b\b\b\b\b\b\b\b\b\b\b\b\b\b\b\b\b\b\b\b\b\b\b\b\b\b\b\b\b\b\b\b\b\b\b\b\b\b\b\b\b\b\b\b\b\b\b\b\b\b\b\b\b\b\b\b\b\b\b\b\b\b\b\b\b\b\b\b\b\b\b\b\b\b\b\b\b\b\b\b\b\b\b\b\b\b\b\b\b\b\b\b\b\b\b\b\b\b\b\b\b\b\b\b\b\b\b\b\b\b\b\b\b\b\b\b\b\b\b\b\b\b\b\b\b\b\b\b\b\b\b\b\b\b\b\b\b\b\b\b\b\b\b\b\b\b\b\b\b\b\b\b\b\b\b\b\b\b\b\b\b\b\b\b\b\b\b\b\b\b\b\b\b\b\b\b\b\b\b\b\b\b\b\b\b\b\b\b\b\b\b\b\b\b\b\b\b\b\b\b\b\b\b\b\b\b\b\b\b\b\b\b\b\b\b\b\b\b\b\b\b\b\b\b\b\b\b\b\b\b\b\b\b\b\b\b\b\b\b\b\b\b\b\b\b\b\b\b\b\b\b\b\b\b\b\b\b\b\b\b\b\b\b\b\b\b\b\b\b\b\b\b\b\b\b\b\b\b\b\b\b\b\b\b\b\b\b\b\b\b\b\b\b\b\b\b\b\b\b\b\b\b\b\b\b\b\b\b\b\b\b\b\b\b\b\b\b\b\b\b\b\b\b\b\b\b\b\b\b\b\b\b\b\b\b\b\b\b\b\b\b\b\b\b\b\b\b\b\b\b\b\b\b\b\b\b\b\b\b\b\b\b\b\b\b\b\b\b\b\b\b\b\b\b\b\b\b\b\b\b\b\b\b\b\b\b\b\b\b\b\b\b\b\b\b\b\b\b\b\b\b\b\b\b\b\b\b\b\b\b\b\b\b\b\b\b\b\b\b\b\b\b\b\b\b\b\b\b\b\b\b\b\b\b\b\b\b\b\b\b\b\b\b\b\b\b\b\b\b\b\b\b\b\b\b\b\b\b\b\b\b\b\b\b\b\b\b\b\b\b\b\b\b\b\b\b\b\b\b\b\b\b\b\b\b\b\b\b\b\b\b\b\b\b\b\b\b\b\b\b\b\b\b\b\b\b\b\b\b\b\b\b\b\b\b\b\b\b\b\b\b\b\b\b\b\b\b\b\b\b\b\b\b\b\b\b\b\b\b\b\b\b\b\b\b\b\b\b\b\b\b\b\b\b\b\b\b\b\b\b\b\b\b\b\b\b\b\b\b\b\b\b\b\b\b\b\b\b\b\b\b\b\b\b\b\b\b\b\b\b\b\b\b\b\b\b\b\b\b\b\b\b\b\b\b\b\b\b\b\b\b\b\b\b\b\b\b\b\b\b\b\b\b\b\b\b\b\b\b\b\b\b\b\b\b\b\b\b\b\b\b\b\b\b\b\b\b\b\b\b\b\b\b\b\b\b\b\b\b\b\b\b\b\b\b\b\b\b\b\b\b\b\b\b\b\b\b\b\b\b\b\b\b\b\b\b\b\b\b\b\b\b\b\b\b\b\b\b\b\b\b\b\b\b\b\b\b\b\b\b\b\b\b\b\b\b\b\b\b\b\b\b\b\b\b\b\b\b\b\b\b\b\b\b\b\b\b\b\b\b\b\b\b\b\b\b\b\b\b\b\b\b\b\b\b\b\b\b\b\b\b\b\b\b\b\b\b\b\b\b\b\b\b\b\b\b\b\b\b\b\b\b\b\b\b\b\b\b\b\b\b\b\b\b\b\b\b\b\b\b\b\b\b\b\b\b\b\b\b\b\b\b\b\b\b\b\b\b\b\b\b\b\b\b\b\b\b\b\b\b\b\b\b\b\b\b\b\b\b\b\b\b\b\b\b\b\b\b\b\b\b\b\b\b\b\b\b\b\b\b\b\b\b\b\b\b\b\b\b\b\b\b\b\b\b\b\b\b\b\b\b\b\b\b\b\b\b\b\b\b\b\b\b\b\b\b\b\b\b\b\b\b\b\b\b\b\b\b\b\b\b\b\b\b\b\b\b\b\b\b\b\b\b\b\b\b\b\b\b\b\b\b\b\b\b\b\b\b\b\b\b\b\b\b\b\b\b\b\b\b\b\b\b\b\b\b\b\b\b\b\b\b\b\b\b\b\b\b\b\b\b\b\b\b\b\b\b\b\b\b\b\b\b\b\b\b\b\b\b\b\b\b\b\b\b\b\b\b\b\b\b\b\b\b\b\b\b\b\b\b\b\b\b\b\b\b\b\b\b\b\b\b\b\b\b\b\b\b\b\b\b\b\b\b\b\b\b\b\b\b\b\b\b\b\b\b\b\b\b\b\b\b\b\b\b\b\b\b\b\b\b\b\b\b\b\b\b\b\b\b\b\b\b\b\b\b\b\b\b\b\b\b\b\b\b\b\b\b\b\b\b\b\b\b\b\b\b\b\b\b\b\b\b\b\b\b\b\b\b\b\b\b\b\b\b\b\b\b\b\b\b\b\b\b\b\b\b\b\b\b\b\b\b\b\b\b\b\b\b\b\b\b\b\b\b\b\b\b\b\b\b\b\b\b\b\b\b\b\b\b\b\b\b\b\b\b\b\b\b\b\b\b\b\b\b\b\b\b\b\b\b\b\b\b\b\b\b\b\b\b\b\b\b\b\b\b\b\b\b\b\b\b\b\b\b\b\b\b\b\b\b\b\b\b\b\b\b\b\b\b\b\b\b\b\b\b\b\b\b\b\b\b\b\b\b\b\b\b\b\b\b\b\b\b\b\b\b\b\b\b\b\b\b\b\b\b\b\b\b\b\b\b\b\b\b\b\b\b\b\b\b\b\b\b\b\b\b\b\b\b\b\b\b\b\b\b\b\b\b\b\b\b\b\b\b\b\b\b\b\b\b\b\b\b\b\b\b\b\b\b\b\b\b\b\b\b\b\b\b\b\b\b\b\b\b\b\b\b\b\b\b\b\b\b\b\b\b\b\b\b\b\b\b\b\b\b\b\b\b\b\b\b\b\b\b\b\b\b\b\b\b\b\b\b\b\b\b\b\b\b\b\b\b\b\b\b\b\b\b\b\b\b\b\b\b\b\b\b\b\b\b\b\b\b\b\b\b\b\b\b\b\b\b\b\b\b\b\b\b\b\b\b\b\b\b\b\b\b\b\b\b\b\b\b\b\b\b\b\b\b\b\b\b\b\b\b\b\b\b\b\b\b\b\b\b\b\b\b\b\b\b\b\b\b\b\b\b\b\b\b\b\b\b\b\b\b\b\b\b\b\b\b\b\b\b\b\b\b\b\b\b\b\b\b\b\b\b\b\b\b\b\b\b\b\b\b\b\b\b\b\b\b\b\b\b\b\b\b\b\b\b\b\b\b\b\b\b\b\b\b\b\b\b\b\b\b\b\b\b\b\b\b\b\b\b\b\b\b\b\b\b\b\b\b\b\b\b\b\b\b\b\b\b\b\b\b\b\b\b\b\b\b\b\b\b\b\b\b\b\b\b\b\b\b\b\b\b\b\b\b\b\b\b\b\b\b\b\b\b\b\b\b\b\b\b\b\b\b\b\b\b\b\b\b\b\b\b\b\b\b\b\b\b\b\b\b\b\b\b\b\b\b\b\b\b\b\b\b\b\b\b\b\b\b\b\b\b\b\b\b\b\b\b\b\b\b\b\b\b\b\b\b\b\b\b\b\b\b\b\b\b\b\b\b\b\b\b\b\b\b\b\b\b\b\b\b\b\b\b\b\b\b\b\b\b\b\b\b\b\b\b\b\b\b\b\b\b\b\b\b\b\b\b\b\b\b\b\b\b\b\b\b\b\b\b\b\b\b\b\b\b\b\b\b\b\b\b\b\b\b\b\b\b\b\b\b\b\b\b\b\b\b\b\b\b\b\b\b\b\b\b\b\b\b\b\b\b\b\b\b\b\b\b\b\b\b\b\b\b\b\b\b\b\b\b\b\b\b\b\b\b\b\b\b\b\b\b\b\b\b\b\b\b\b\b\b\b\b\b\b\b\b\b\b\b\b\b\b\b\b\b\b\b\b\b\b\b\b\b\b\b\b\b\b\b\b\b\b\b\b\b\b\b\b\b\b\b\b\b\b\b\b\b\b\b\b\b\b\b\b\b\b\b\b\b\b\b\b\b\b\b\b\b\b\b\b\b\b\b\b\b\b\b\b\b\b\b\b\b\b\b\b\b\b\b\b\b\b\b\b\b\b\b\b\b\b\b\b\b\b\b\b\b\b\b\b\b\b\b\b\b\b\b\b\b\b\b\b\b\b\b\b\b\b\b\b\b\b\b\b\b\b\b\b\b\b\b\b\b\b\b\b\b\b\b\b\b\b\b\b\b\b\b\b\b\b\b\b\b\b\b\b\b\b\b\b\b\b\b\b\b\b\b\b\b\b\b\b\b\b\b\b\b\b\b\b\b\b\b\b\b\b\b\b\b\b\b\b\b\b\b\b\b\b\b\b\b\b\b\b\b\b\b\b\b\b\b\b\b\b\b\b\b\b\b\b\b\b\b\b\b\b\b\b\b\b\b\b\b\b\b\b\b\b\b\b\b\b\b\b\b\b\b\b\b\b\b\b\b\b\b\b\b\b\b\b\b\b\b\b\b\b\b\b\b\b\b\b\b\b\b\b\b\b\b\b\b\b\b\b\b\b\b\b\b\b\b\b\b\b\b\b\b\b\b\b\b\b\b\b\b\b\b\b\b\b\b\b\b\b\b\b\b\b\b\b\b\b\b\b\b\b\b\b\b\b\b\b\b\b\b\b\b\b\b\b\b\b\b\b\b\b\b\b\b\b\b\b\b\b\b\b\b\b\b\b\b\b\b\b\b\b\b\b\b\b\b\b\b\b\b\b\b\b\b\b\b\b\b\b\b\b\b\b\b\b\b\b\b\b\b\b\b\b\b\b\b\b\b\b\b\b\b\b\b\b\b\b\b\b\b\b\b\b\b\b\b\b\b\b\b\b\b\b\b\b\b\b\b\b\b\b\b\b\b\b\b\b\b\b\b\b\b\b\b\b\b\b\b\b\b\b\b\b\b\b\b\b\b\b\b\b\b\b\b\b\b\b\b\b\b\b\b\b\b\b\b\b\b\b\b\b\b\b\b\b\b\b\b\b\b\b\b\b\b\b\b\b\b\b\b\b\b\b\b\b\b\b\b\b\b\b\b\b\b\b\b\b\b\b\b\b\b\b\b\b\b\b\b\b\b\b\b\b\b\b\b\b\b\b\b\b\b\b\b\b\b\b\b\b\b\b\b\b\b\b\b\b\b\b\b\b\b\b\b\b\b\b\b\b\b\b\b\b\b\b\b\b\b\b\b\b\b\b\b\b\b\b\b\b\b\b\b\b\b\b\b\b\b\b\b\b\b\b\b\b\b\b\b\b\b\b\b\b\b\b\b\b\b\b\b\b\b\b\b\b\b\b\b\b\b\b\b\b\b\b\b\b\b\b\b\b\b\b\b\b\b\b\b\b\b\b\b\b\b\b\b\b\b\b\b\b\b\b\b\b\b\b\b\b\b\b\b\b\b\b\b\b\b\b\b\b\b\b\b\b\b\b\b\b\b\b\b\b\b\b\b\b\b\b\b\b\b\b\b\b\b\b\b\b\b\b\b\b\b\b\b\b\b\b\b\b\b\b\b\b\b\b\b\b\b\b\b\b\b\b\b\b\b\b\b\b\b\b\b\b\b\b\b\b\b\b\b\b\b\b\b\b\b\b\b\b\b\b\b\b\b\b\b\b\b\b\b\b\b\b\b\b\b\b\b\b\b\b\b\b\b\b\b\b\b\b\b\b\b\b\b\b\b\b\b\b\b\b\b\b\b\b\b\b\b\b\b\b\b\b\b\b\b\b\b\b\b\b\b\b\b\b\b\b\b\b\b\b\b\b\b\b\b\b\b\b\b\b\b\b\b\b\b\b\b\b\b\b\b\b\b\b\b\b\b\b\b\b\b\b\b\b\b\b\b\b\b\b\b\b\b\b\b\b\b\b\b\b\b\b\b\b\b\b\b\b\b\b\b\b\b\b\b\b\b\b\b\b\b\b\b\b\b\b\b\b\b\b\b\b\b\b\b\b\b\b\b\b\b\b\b\b\b\b\b\b\b\b\b\b\b\b\b\b\b\b\b\b\b\b\b\b\b\b\b\b\b\b\b\b\b\b\b\b\b\b\b\b\b\b\b\b\b\b\b\b\b\b\b\b\b\b\b\b\b\b\b\b\b\b\b\b\b\b\b\b\b\b\b\b\b\b\b\b\b\b\b\b\b\b\b\b\b\b\b\b\b\b\b\b\b\b\b\b\b\b\b\b\b\b\b\b\b\b\b\b\b\b\b\b\b\b\b\b\b\b\b\b\b\b\b\b\b\b\b\b\b\b\b\b\b\b\b\b\b\b\b\b\b\b\b\b\b\b\b\b\b\b\b\b\b\b\b\b\b\b\b\b\b\b\b\b\b\b\b\b\b\b\b\b\b\b\b\b\b\b\b\b\b\b\b\b\b\b\b\b\b\b\b\b\b\b\b\b\b\b\b\b\b\b\b\b\b\b\b\b\b\b\b\b\b\b\b\b\b\b\b\b\b\b\b\b\b\b\b\b\b\b\b\b\b\b\b\b\b\b\b\b\b\b\b\b\b\b\b\b\b\b\b\b\b\b\b\b\b\b\b\b\b\b\b\b\b\b\b\b\b\b\b\b\b\b\b\b\b\b\b\b\b\b\b\b\b\b\b\b\b\b\b\b\b\b\b\b\b\b\b\b\b\b\b\b\b\b\b\b\b\b\b\b\b\b\b\b\b\b\b\b\b\b\b\b\b\b\b\b\b\b\b\b\b\b\b\b\b\b\b\b\b\b\b\b\b\b\b\b\b\b\b\b\b\b\b\b\b\b\b\b\b\b\b\b\b\b\b\b\b\b\b\b\b\b\b\b\b\b\b\b\b\b\b\b\b\b\b\b\b\b\b\b\b\b\b\b\b\b\b\b\b\b\b\b\b\b\b\b\b\b\b\b\b\b\b\b\b\b\b\b\b\b\b\b\b\b\b\b\b\b\b\b\b\b\b\b\b\b\b\b\b\b\b\b\b\b\b\b\b\b\b\b\b\b\b\b\b\b\b\b\b\b\b\b\b\b\b\b\b\b\b\b\b\b\b\b\b\b\b\b\b\b\b\b\b\b\b\b\b\b\b\b\b\b\b\b\b\b\b\b\b\b\b\b\b\b\b\b\b\b\b\b\b\b\b\b\b\b\b\b\b\b\b\b\b\b\b\b\b\b\b\b\b\b\b\b\b\b\b\b\b\b\b\b\b\b\b\b\b\b\b\b\b\b\b\b\b\b\b\b\b\b\b\b\b\b\b\b\b\b\b\b\b\b\b\b\b\b\b\b\b\b\b\b\b\b\b\b\b\b\b\b\b\b\b\b\b\b\b\b\b\b\b\b\b\b\b\b\b\b\b\b\b\b\b\b\b\b\b\b\b\n"
     ]
    }
   ],
   "source": [
    "def trainnextapppredictor(embedding, nsamples):\n",
    "    train_x=np.zeros(shape=(nsamples,))\n",
    "    train_y=np.zeros(shape=(nsamples, 1, len(embedding)))\n",
    "    for i in range(nsamples):\n",
    "        prevappindex = np.random.randint(0,len(embedding)-1)\n",
    "        nextappindex = np.random.choice(len(embedding),p=embedding[prevappindex])\n",
    "        train_x[i] = prevappindex\n",
    "        train_y[i, 0, nextappindex] = 1\n",
    "    batchsize = min(nsamples, 16)\n",
    "    nextapppredictor.fit(train_x, train_y,\n",
    "                         batch_size=batchsize, epochs=50, verbose=0)\n",
    "    nextapppredictor.fit(train_x, train_y,\n",
    "                         batch_size=batchsize, epochs=1, verbose=1)\n",
    "\n",
    "embedding = (np.divide(graph.graph.T, graph.graph.sum(axis=1), where=graph.graph.sum(axis=1)!=0)).T\n",
    "trainnextapppredictor(embedding, 100000)"
   ],
   "metadata": {
    "collapsed": false,
    "pycharm": {
     "name": "#%%\n"
    }
   }
  },
  {
   "cell_type": "code",
   "execution_count": 8,
   "outputs": [
    {
     "name": "stdout",
     "output_type": "stream",
     "text": [
      "[ 0 10 25  6 23]\n",
      "[ 0 10 16 29 28]\n"
     ]
    }
   ],
   "source": [
    "print(nextapppredictor.predict([51])[0][0].argsort()[-5:][::-1])\n",
    "print(graph.graph[51].argsort()[-5:][::-1])"
   ],
   "metadata": {
    "collapsed": false,
    "pycharm": {
     "name": "#%%\n"
    }
   }
  },
  {
   "cell_type": "code",
   "execution_count": 42,
   "outputs": [
    {
     "name": "stdout",
     "output_type": "stream",
     "text": [
      "Model: \"bi_gru_7\"\n",
      "_________________________________________________________________\n",
      "Layer (type)                 Output Shape              Param #   \n",
      "=================================================================\n",
      "embedding (Embedding)        (None, 10, 4)             800       \n",
      "_________________________________________________________________\n",
      "bidirectional_7 (Bidirection (None, 128)               26880     \n",
      "_________________________________________________________________\n",
      "dropout_7 (Dropout)          (None, 128)               0         \n",
      "_________________________________________________________________\n",
      "dense_8 (Dense)              (None, 200)               25800     \n",
      "=================================================================\n",
      "Total params: 53,480\n",
      "Trainable params: 52,680\n",
      "Non-trainable params: 800\n",
      "_________________________________________________________________\n",
      "None\n"
     ]
    },
    {
     "data": {
      "text/plain": "0epoch [00:00, ?epoch/s]",
      "application/vnd.jupyter.widget-view+json": {
       "version_major": 2,
       "version_minor": 0,
       "model_id": "c2d2702a17e740fe89faa9db670cede7"
      }
     },
     "metadata": {},
     "output_type": "display_data"
    },
    {
     "data": {
      "text/plain": "0batch [00:00, ?batch/s]",
      "application/vnd.jupyter.widget-view+json": {
       "version_major": 2,
       "version_minor": 0,
       "model_id": "3ac1c8583f074256b4e81229068ecb80"
      }
     },
     "metadata": {},
     "output_type": "display_data"
    }
   ],
   "source": [
    "from BiGRU import BiGRU\n",
    "importlib.reload(sys.modules['BiGRU'])\n",
    "from BiGRU import BiGRU\n",
    "\n",
    "embedding = nextapppredictor.get_layer(\"embedding\").get_weights()[0]\n",
    "padding = np.zeros(shape=(136, embedding.shape[1]), dtype=np.float32)\n",
    "paddedembedding = np.vstack((embedding, padding))\n",
    "numofapps = len(cleanedeventlog.Appname.drop_duplicates())\n",
    "\n",
    "bigru = BiGRU(input_dim=paddedembedding.shape[0],\n",
    "              output_dim=paddedembedding.shape[1],\n",
    "              seq_length=10,\n",
    "              embedding=paddedembedding,\n",
    "              amntgru=64)\n",
    "bigru.compile(loss='categorical_crossentropy',\n",
    "              optimizer=Adam(learning_rate=0.001),\n",
    "              metrics=[\"accuracy\"])\n",
    "\n",
    "trainingset = cleanedeventlog[cleanedeventlog.Weeks<2]\n",
    "bigru.pretrain(trainingset=trainingset, ttsplit=0.80, epochs=8)\n",
    "bigru.get_layer(\"embedding\").trainable = True"
   ],
   "metadata": {
    "collapsed": false,
    "pycharm": {
     "name": "#%%\n"
    }
   }
  },
  {
   "cell_type": "code",
   "execution_count": 43,
   "outputs": [
    {
     "name": "stdout",
     "output_type": "stream",
     "text": [
      "0.7502383222116301\n",
      "0.7753277711561383\n",
      "0.65\n"
     ]
    }
   ],
   "source": [
    "from evaluation import evaluate\n",
    "importlib.reload(sys.modules['evaluation'])\n",
    "from evaluation import evaluate\n",
    "\n",
    "train_x = np.zeros(shape=(len(trainingset)-10, 10))\n",
    "train_y = np.zeros(shape=(len(trainingset)-10,))\n",
    "eventdict = {}\n",
    "appnamedict = {}\n",
    "for i in range(10, len(trainingset)):\n",
    "    currappname = trainingset.Appname.iloc[i]\n",
    "    if (eventdict.get(currappname) == None):\n",
    "        if (len(eventdict) == 0):\n",
    "            for prevappname in trainingset.Appname.iloc[:i]:\n",
    "                if (eventdict.get(prevappname) == None):\n",
    "                    newappindex = len(eventdict)\n",
    "                    eventdict[prevappname] = newappindex\n",
    "                    appnamedict[newappindex] = prevappname\n",
    "        currappindex = len(eventdict)\n",
    "        eventdict[currappname] = currappindex\n",
    "        appnamedict[currappindex] = currappname\n",
    "\n",
    "    train_x[i-10,:] = [eventdict.get(appname) for appname in trainingset.Appname.iloc[i-10:i]]\n",
    "    train_y[i-10,] = eventdict.get(trainingset.Appname.iloc[i])\n",
    "\n",
    "topk=5\n",
    "predictions = bigru.predict(train_x, verbose=0)\n",
    "accurate = []\n",
    "for i in range(len(predictions)):\n",
    "    accurate.append(train_y[i] in (-predictions[i]).argsort()[:topk])\n",
    "\n",
    "print(sum(accurate)/len(accurate))\n",
    "print(sum(accurate[:int(0.8*len(accurate))])/len(accurate[:int(0.8*len(accurate))]))\n",
    "print(sum(accurate[int(0.8*len(accurate)):])/len(accurate[int(0.8*len(accurate)):]))"
   ],
   "metadata": {
    "collapsed": false,
    "pycharm": {
     "name": "#%%\n"
    }
   }
  },
  {
   "cell_type": "code",
   "execution_count": 44,
   "outputs": [
    {
     "data": {
      "text/plain": "  0%|          | 0/31517 [00:00<?, ?it/s]",
      "application/vnd.jupyter.widget-view+json": {
       "version_major": 2,
       "version_minor": 0,
       "model_id": "018132723d384eeab4d9ae1f3b4aae7c"
      }
     },
     "metadata": {},
     "output_type": "display_data"
    }
   ],
   "source": [
    "from BiGRU import BiGRU\n",
    "importlib.reload(sys.modules['BiGRU'])\n",
    "from BiGRU import BiGRU\n",
    "from tensorflow.keras.optimizers import SGD\n",
    "\n",
    "bigru.compile(loss='categorical_crossentropy',\n",
    "              optimizer=SGD(learning_rate=0.001),\n",
    "              metrics=[\"accuracy\"])\n",
    "\n",
    "livetrainingset = cleanedeventlog[cleanedeventlog.Weeks>1]\n",
    "\n",
    "predictions = []\n",
    "for index in tq.tqdm(range(11, len(livetrainingset)-1)):\n",
    "    bigru.livefitupdateembedding(appnames=livetrainingset.Appname.iloc[index-11:index])\n",
    "    predictions.append(bigru.livepredict(appnames=livetrainingset.Appname.iloc[index-11:index],\n",
    "                                         topk=5))"
   ],
   "metadata": {
    "collapsed": false,
    "pycharm": {
     "name": "#%%\n"
    }
   }
  },
  {
   "cell_type": "code",
   "execution_count": 45,
   "outputs": [
    {
     "data": {
      "text/plain": "   Unnamed: 0   Appname        Date      Time Duration            Timestamp  \\\n0           0  Settings  17/05/2019  18:28:30  0:00:03  2019-05-17 18:28:30   \n1           1  Settings  17/05/2019  18:30:17  0:00:03  2019-05-17 18:30:17   \n\n   TimeDiff  Rownumber  Seconds  Weeks  Days  Nrusedapps  PretrainAccuracy  \\\n0         3          5    203.0      0     0           1             False   \n1         3         10    310.0      0     0           1             False   \n\n   BigruAccuracy  CombiAccuracy  Accuracy  \n0          False          False     False  \n1          False          False      True  ",
      "text/html": "<div>\n<style scoped>\n    .dataframe tbody tr th:only-of-type {\n        vertical-align: middle;\n    }\n\n    .dataframe tbody tr th {\n        vertical-align: top;\n    }\n\n    .dataframe thead th {\n        text-align: right;\n    }\n</style>\n<table border=\"1\" class=\"dataframe\">\n  <thead>\n    <tr style=\"text-align: right;\">\n      <th></th>\n      <th>Unnamed: 0</th>\n      <th>Appname</th>\n      <th>Date</th>\n      <th>Time</th>\n      <th>Duration</th>\n      <th>Timestamp</th>\n      <th>TimeDiff</th>\n      <th>Rownumber</th>\n      <th>Seconds</th>\n      <th>Weeks</th>\n      <th>Days</th>\n      <th>Nrusedapps</th>\n      <th>PretrainAccuracy</th>\n      <th>BigruAccuracy</th>\n      <th>CombiAccuracy</th>\n      <th>Accuracy</th>\n    </tr>\n  </thead>\n  <tbody>\n    <tr>\n      <th>0</th>\n      <td>0</td>\n      <td>Settings</td>\n      <td>17/05/2019</td>\n      <td>18:28:30</td>\n      <td>0:00:03</td>\n      <td>2019-05-17 18:28:30</td>\n      <td>3</td>\n      <td>5</td>\n      <td>203.0</td>\n      <td>0</td>\n      <td>0</td>\n      <td>1</td>\n      <td>False</td>\n      <td>False</td>\n      <td>False</td>\n      <td>False</td>\n    </tr>\n    <tr>\n      <th>1</th>\n      <td>1</td>\n      <td>Settings</td>\n      <td>17/05/2019</td>\n      <td>18:30:17</td>\n      <td>0:00:03</td>\n      <td>2019-05-17 18:30:17</td>\n      <td>3</td>\n      <td>10</td>\n      <td>310.0</td>\n      <td>0</td>\n      <td>0</td>\n      <td>1</td>\n      <td>False</td>\n      <td>False</td>\n      <td>False</td>\n      <td>True</td>\n    </tr>\n  </tbody>\n</table>\n</div>"
     },
     "execution_count": 45,
     "metadata": {},
     "output_type": "execute_result"
    }
   ],
   "source": [
    "importlib.reload(sys.modules['evaluation'])\n",
    "from evaluation import evaluate\n",
    "\n",
    "cleanedeventlog[\"PretrainAccuracy\"] = evaluate(predictions=predictions,\n",
    "                                       labels=livetrainingset.Appname.iloc[12:].to_numpy(),\n",
    "                                       padfirst=len(trainingset)+12)\n",
    "\n",
    "cleanedeventlog.head(2)"
   ],
   "metadata": {
    "collapsed": false,
    "pycharm": {
     "name": "#%%\n"
    }
   }
  },
  {
   "cell_type": "markdown",
   "source": [
    "## Save csv"
   ],
   "metadata": {
    "collapsed": false
   }
  },
  {
   "cell_type": "code",
   "execution_count": 229,
   "outputs": [],
   "source": [
    "cleanedeventlog.to_csv(\"outputdata/accuracy.csv\")"
   ],
   "metadata": {
    "collapsed": false,
    "pycharm": {
     "name": "#%%\n"
    }
   }
  },
  {
   "cell_type": "code",
   "execution_count": 5,
   "outputs": [
    {
     "data": {
      "text/plain": "   Unnamed: 0   Appname        Date      Time Duration            Timestamp  \\\n0           0  Settings  17/05/2019  18:28:30  0:00:03  2019-05-17 18:28:30   \n1           1  Settings  17/05/2019  18:30:17  0:00:03  2019-05-17 18:30:17   \n\n   TimeDiff  Rownumber  Seconds  Weeks  Days  Nrusedapps  PretrainAccuracy  \\\n0         3          5    203.0      0     0           1             False   \n1         3         10    310.0      0     0           1             False   \n\n   BigruAccuracy  CombiAccuracy  Accuracy  \n0          False          False     False  \n1          False          False      True  ",
      "text/html": "<div>\n<style scoped>\n    .dataframe tbody tr th:only-of-type {\n        vertical-align: middle;\n    }\n\n    .dataframe tbody tr th {\n        vertical-align: top;\n    }\n\n    .dataframe thead th {\n        text-align: right;\n    }\n</style>\n<table border=\"1\" class=\"dataframe\">\n  <thead>\n    <tr style=\"text-align: right;\">\n      <th></th>\n      <th>Unnamed: 0</th>\n      <th>Appname</th>\n      <th>Date</th>\n      <th>Time</th>\n      <th>Duration</th>\n      <th>Timestamp</th>\n      <th>TimeDiff</th>\n      <th>Rownumber</th>\n      <th>Seconds</th>\n      <th>Weeks</th>\n      <th>Days</th>\n      <th>Nrusedapps</th>\n      <th>PretrainAccuracy</th>\n      <th>BigruAccuracy</th>\n      <th>CombiAccuracy</th>\n      <th>Accuracy</th>\n    </tr>\n  </thead>\n  <tbody>\n    <tr>\n      <th>0</th>\n      <td>0</td>\n      <td>Settings</td>\n      <td>17/05/2019</td>\n      <td>18:28:30</td>\n      <td>0:00:03</td>\n      <td>2019-05-17 18:28:30</td>\n      <td>3</td>\n      <td>5</td>\n      <td>203.0</td>\n      <td>0</td>\n      <td>0</td>\n      <td>1</td>\n      <td>False</td>\n      <td>False</td>\n      <td>False</td>\n      <td>False</td>\n    </tr>\n    <tr>\n      <th>1</th>\n      <td>1</td>\n      <td>Settings</td>\n      <td>17/05/2019</td>\n      <td>18:30:17</td>\n      <td>0:00:03</td>\n      <td>2019-05-17 18:30:17</td>\n      <td>3</td>\n      <td>10</td>\n      <td>310.0</td>\n      <td>0</td>\n      <td>0</td>\n      <td>1</td>\n      <td>False</td>\n      <td>False</td>\n      <td>False</td>\n      <td>True</td>\n    </tr>\n  </tbody>\n</table>\n</div>"
     },
     "execution_count": 5,
     "metadata": {},
     "output_type": "execute_result"
    }
   ],
   "source": [
    "cleanedeventlog = pd.read_csv(\"../outputdata/accuracy.csv\")\n",
    "cleanedeventlog.head(2)"
   ],
   "metadata": {
    "collapsed": false,
    "pycharm": {
     "name": "#%%\n"
    }
   }
  },
  {
   "cell_type": "code",
   "execution_count": 7,
   "outputs": [
    {
     "data": {
      "text/plain": "<Figure size 432x288 with 1 Axes>",
      "image/png": "[encoded data removed]"
     },
     "metadata": {
      "needs_background": "light"
     },
     "output_type": "display_data"
    }
   ],
   "source": [
    "data = cleanedeventlog.groupby(\"Weeks\")[[\"Accuracy\",\n",
    "                                         \"BigruAccuracy\",\n",
    "                                         \"CombiAccuracy\",\n",
    "                                         \"PretrainAccuracy\"]].mean().reset_index()\n",
    "data = data[data.Weeks>1]\n",
    "\n",
    "# plt.plot( 'Weeks', 'Accuracy', data=data, marker='', color='olive', linewidth=1,\n",
    "#           label=\"graphpred\")\n",
    "plt.plot( 'Weeks', 'BigruAccuracy', data=data, marker='', color='blue', linewidth=1,\n",
    "          label=\"BiGRU\")\n",
    "# plt.plot( 'Weeks', 'CombiAccuracy', data=data, marker='', color='red', linewidth=1,\n",
    "#           label=\"combi\")\n",
    "plt.plot( 'Weeks', 'PretrainAccuracy', data=data, marker='', color='orange', linewidth=1,\n",
    "          label=\"pretrain\")\n",
    "plt.legend()\n",
    "plt.savefig(\"../outputdata/liveaccuracy.png\")\n",
    "plt.show()\n"
   ],
   "metadata": {
    "collapsed": false,
    "pycharm": {
     "name": "#%%\n"
    }
   }
  }
 ],
 "metadata": {
  "kernelspec": {
   "display_name": "Python 3",
   "language": "python",
   "name": "python3"
  },
  "language_info": {
   "codemirror_mode": {
    "name": "ipython",
    "version": 2
   },
   "file_extension": ".py",
   "mimetype": "text/x-python",
   "name": "python",
   "nbconvert_exporter": "python",
   "pygments_lexer": "ipython2",
   "version": "2.7.6"
  }
 },
 "nbformat": 4,
 "nbformat_minor": 0
}