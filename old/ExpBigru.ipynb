{
 "cells": [
  {
   "cell_type": "markdown",
   "metadata": {
    "collapsed": true,
    "pycharm": {
     "name": "#%% md\n"
    }
   },
   "source": [
    "# BIGRU model met embeddings\n",
    "## Geen embedding pre-training"
   ]
  },
  {
   "cell_type": "code",
   "execution_count": 1,
   "outputs": [],
   "source": [
    "from torch import optim\n",
    "from data.dataloader import DatasetLoader\n",
    "from torch.utils.data import DataLoader\n",
    "import torch\n",
    "from models.BiGRU import BiGRU\n",
    "from torch import nn\n",
    "from tqdm import tqdm\n",
    "import numpy as np\n",
    "import pandas as pd"
   ],
   "metadata": {
    "collapsed": false,
    "pycharm": {
     "name": "#%%\n"
    }
   }
  },
  {
   "cell_type": "markdown",
   "source": [
    "## 1. Dataset uitlezen"
   ],
   "metadata": {
    "collapsed": false
   }
  },
  {
   "cell_type": "code",
   "execution_count": 6,
   "outputs": [],
   "source": [
    "dataset = DatasetLoader(\"eventlog/phone_usage_cleaned.csv\", seq_length=10, max_apps=200)\n",
    "removeapps = [\"Screen on (locked)\",\n",
    "              \"Screen off (locked)\",\n",
    "              \"Screen on (unlocked)\",\n",
    "              \"Screen off\",\n",
    "              \"Samsung Experience Service\",\n",
    "              \"Package installer\",\n",
    "              \"System UI\",\n",
    "              \"Customisation Service\",\n",
    "              \"Configuration update\",\n",
    "              \"EmergencyManagerService\",\n",
    "              \"DeviceKeystring\",\n",
    "              \"Samsung Keyboard\",\n",
    "              \"HwModuleTest\",\n",
    "              \"Device shutdown\",\n",
    "              \"Device boot\"]\n",
    "dataset.clean(removeapps)\n",
    "train_dataloader = DataLoader(dataset)"
   ],
   "metadata": {
    "collapsed": false,
    "pycharm": {
     "name": "#%%\n"
    }
   }
  },
  {
   "cell_type": "markdown",
   "source": [
    "## 2. bigru model aanmaken en trainen"
   ],
   "metadata": {
    "collapsed": false,
    "pycharm": {
     "name": "#%% md\n"
    }
   }
  },
  {
   "cell_type": "code",
   "execution_count": 7,
   "outputs": [
    {
     "name": "stderr",
     "output_type": "stream",
     "text": [
      "100%|██████████| 33627/33627 [05:01<00:00, 111.67it/s]\n"
     ]
    },
    {
     "name": "stdout",
     "output_type": "stream",
     "text": [
      "loss: 10.681\n",
      "Accuracy of the network is:71.1125\n",
      "loss: 11.427\n",
      "Accuracy of the network is:64.325\n",
      "loss: 11.692\n",
      "Accuracy of the network is:64.4625\n",
      "loss: 11.526\n",
      "Accuracy of the network is:63.4625\n",
      "loss: 9.788\n",
      "Accuracy of the network is:75.4\n",
      "loss: 10.694\n",
      "Accuracy of the network is:73.675\n",
      "loss: 10.246\n",
      "Accuracy of the network is:72.7625\n",
      "loss: 10.649\n",
      "Accuracy of the network is:74.725\n",
      "loss: 9.870\n",
      "Accuracy of the network is:77.95\n",
      "loss: 11.660\n",
      "Accuracy of the network is:73.4375\n",
      "loss: 10.995\n",
      "Accuracy of the network is:75.5125\n",
      "loss: 12.050\n",
      "Accuracy of the network is:70.7625\n",
      "loss: 12.536\n",
      "Accuracy of the network is:64.8\n",
      "loss: 10.766\n",
      "Accuracy of the network is:73.6875\n",
      "loss: 9.580\n",
      "Accuracy of the network is:78.0625\n",
      "loss: 10.400\n",
      "Accuracy of the network is:74.0625\n"
     ]
    }
   ],
   "source": [
    "device = torch.device(\"cuda:0\" if torch.cuda.is_available() else \"cpu\")\n",
    "bigru = BiGRU(max_apps=200,\n",
    "              seq_length=10,\n",
    "              n_gru=64)\n",
    "criterion = nn.CrossEntropyLoss()\n",
    "optimizer = optim.Adam(bigru.parameters(), lr=0.0015)\n",
    "# bigru.src_embedding.weight = torch.nn.Parameter(torch.zeros(size=(200, 4)))\n",
    "bigru.to(device=device)\n",
    "\n",
    "running_loss = 0.0\n",
    "running_accuracy_list = []\n",
    "i = 0\n",
    "total = 0\n",
    "correct = 0\n",
    "epochs = 4\n",
    "for prev_apps_indices, curr_app_index, curr_app_onehot in tqdm(train_dataloader):\n",
    "    prev_apps_indices, curr_app_index = prev_apps_indices.to(device), curr_app_index.to(device)\n",
    "\n",
    "    for j in range(epochs):\n",
    "        optimizer.zero_grad()\n",
    "\n",
    "        outputs = bigru(prev_apps_indices[0])\n",
    "\n",
    "        loss = criterion(outputs, curr_app_index)\n",
    "        loss.backward()\n",
    "        optimizer.step()\n",
    "\n",
    "        total += 1\n",
    "        _, predicted = torch.topk(outputs.data, 5)\n",
    "        correct += (curr_app_index in predicted)*1\n",
    "\n",
    "        running_loss += loss.item()\n",
    "    if i % 2000 == 1999:\n",
    "        print('loss: %.3f' %\n",
    "              (running_loss / 2000))\n",
    "        running_loss = 0.0\n",
    "        print('Accuracy of the network is:' + str(100 * correct / total))\n",
    "        running_accuracy_list.append(100 * correct / total)\n",
    "        total = 0\n",
    "        correct = 0\n",
    "    i += 1"
   ],
   "metadata": {
    "collapsed": false,
    "pycharm": {
     "name": "#%%\n"
    }
   }
  },
  {
   "cell_type": "markdown",
   "source": [
    "## 3. Running accuracy opslaan"
   ],
   "metadata": {
    "collapsed": false
   }
  },
  {
   "cell_type": "code",
   "execution_count": 35,
   "outputs": [],
   "source": [
    "AccuracyComparison = pd.read_csv(\"outputdata/accuracycomparison.csv\", index_col=False)\n",
    "AccuracyComparison[\"Embeddings\"] = running_accuracy_list\n",
    "AccuracyComparison.to_csv(\"outputdata/accuracycomparison.csv\", index=False)\n"
   ],
   "metadata": {
    "collapsed": false,
    "pycharm": {
     "name": "#%%\n"
    }
   }
  }
 ],
 "metadata": {
  "kernelspec": {
   "display_name": "Python 3",
   "language": "python",
   "name": "python3"
  },
  "language_info": {
   "codemirror_mode": {
    "name": "ipython",
    "version": 2
   },
   "file_extension": ".py",
   "mimetype": "text/x-python",
   "name": "python",
   "nbconvert_exporter": "python",
   "pygments_lexer": "ipython2",
   "version": "2.7.6"
  }
 },
 "nbformat": 4,
 "nbformat_minor": 0
}