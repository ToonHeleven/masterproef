{
 "cells": [
  {
   "cell_type": "markdown",
   "metadata": {
    "collapsed": true,
    "pycharm": {
     "name": "#%% md\n"
    }
   },
   "source": [
    "# Analyse van de experimenten"
   ]
  },
  {
   "cell_type": "code",
   "execution_count": 2,
   "outputs": [],
   "source": [
    "import pandas as pd\n",
    "import matplotlib.pyplot as plt"
   ],
   "metadata": {
    "collapsed": false,
    "pycharm": {
     "name": "#%%\n"
    }
   }
  },
  {
   "cell_type": "code",
   "execution_count": 3,
   "outputs": [
    {
     "data": {
      "text/plain": "     MFU    MRU  onehotbigru  onehotlstm128  onehotlstm64  onehotgru64  \\\n0   True   True         True           True          True         True   \n1  False  False        False          False         False        False   \n2  False   True        False          False         False        False   \n3  False   True        False          False         False        False   \n4  False   True        False          False         False        False   \n\n   onehotgru128  embeddingsbigru  embeddingsinheritancebigru  \n0          True             True                        True  \n1         False            False                       False  \n2         False            False                       False  \n3         False            False                       False  \n4         False            False                       False  ",
      "text/html": "<div>\n<style scoped>\n    .dataframe tbody tr th:only-of-type {\n        vertical-align: middle;\n    }\n\n    .dataframe tbody tr th {\n        vertical-align: top;\n    }\n\n    .dataframe thead th {\n        text-align: right;\n    }\n</style>\n<table border=\"1\" class=\"dataframe\">\n  <thead>\n    <tr style=\"text-align: right;\">\n      <th></th>\n      <th>MFU</th>\n      <th>MRU</th>\n      <th>onehotbigru</th>\n      <th>onehotlstm128</th>\n      <th>onehotlstm64</th>\n      <th>onehotgru64</th>\n      <th>onehotgru128</th>\n      <th>embeddingsbigru</th>\n      <th>embeddingsinheritancebigru</th>\n    </tr>\n  </thead>\n  <tbody>\n    <tr>\n      <th>0</th>\n      <td>True</td>\n      <td>True</td>\n      <td>True</td>\n      <td>True</td>\n      <td>True</td>\n      <td>True</td>\n      <td>True</td>\n      <td>True</td>\n      <td>True</td>\n    </tr>\n    <tr>\n      <th>1</th>\n      <td>False</td>\n      <td>False</td>\n      <td>False</td>\n      <td>False</td>\n      <td>False</td>\n      <td>False</td>\n      <td>False</td>\n      <td>False</td>\n      <td>False</td>\n    </tr>\n    <tr>\n      <th>2</th>\n      <td>False</td>\n      <td>True</td>\n      <td>False</td>\n      <td>False</td>\n      <td>False</td>\n      <td>False</td>\n      <td>False</td>\n      <td>False</td>\n      <td>False</td>\n    </tr>\n    <tr>\n      <th>3</th>\n      <td>False</td>\n      <td>True</td>\n      <td>False</td>\n      <td>False</td>\n      <td>False</td>\n      <td>False</td>\n      <td>False</td>\n      <td>False</td>\n      <td>False</td>\n    </tr>\n    <tr>\n      <th>4</th>\n      <td>False</td>\n      <td>True</td>\n      <td>False</td>\n      <td>False</td>\n      <td>False</td>\n      <td>False</td>\n      <td>False</td>\n      <td>False</td>\n      <td>False</td>\n    </tr>\n  </tbody>\n</table>\n</div>"
     },
     "execution_count": 3,
     "metadata": {},
     "output_type": "execute_result"
    }
   ],
   "source": [
    "dataset = pd.read_csv(filepath_or_buffer=\"outputdata/accuracycomparison.csv\")\n",
    "dataset.head()"
   ],
   "metadata": {
    "collapsed": false,
    "pycharm": {
     "name": "#%%\n"
    }
   }
  },
  {
   "cell_type": "code",
   "execution_count": 4,
   "outputs": [
    {
     "name": "stdout",
     "output_type": "stream",
     "text": [
      "True     0.634151\n",
      "False    0.365849\n",
      "Name: MFU, dtype: float64\n",
      "True     0.745417\n",
      "False    0.254583\n",
      "Name: MRU, dtype: float64\n",
      "\n",
      "True     0.728189\n",
      "False    0.271811\n",
      "Name: onehotlstm64, dtype: float64\n",
      "True     0.733089\n",
      "False    0.266911\n",
      "Name: onehotlstm128, dtype: float64\n",
      "\n",
      "True     0.753224\n",
      "False    0.246776\n",
      "Name: onehotgru64, dtype: float64\n",
      "True     0.766152\n",
      "False    0.233848\n",
      "Name: onehotgru128, dtype: float64\n",
      "\n",
      "True     0.760747\n",
      "False    0.239253\n",
      "Name: onehotbigru, dtype: float64\n",
      "True     0.720982\n",
      "False    0.279018\n",
      "Name: embeddingsbigru, dtype: float64\n",
      "True     0.720793\n",
      "False    0.279207\n",
      "Name: embeddingsinheritancebigru, dtype: float64\n"
     ]
    }
   ],
   "source": [
    "print(dataset.MFU.value_counts()/len(dataset.MFU))\n",
    "print(dataset.MRU.value_counts()/len(dataset.MRU))\n",
    "print()\n",
    "print(dataset.onehotlstm64.value_counts()/len(dataset.onehotlstm64))\n",
    "print(dataset.onehotlstm128.value_counts()/len(dataset.onehotlstm128))\n",
    "print()\n",
    "print(dataset.onehotgru64.value_counts()/len(dataset.onehotgru64))\n",
    "print(dataset.onehotgru128.value_counts()/len(dataset.onehotgru128))\n",
    "print()\n",
    "print(dataset.onehotbigru.value_counts()/len(dataset.onehotbigru))\n",
    "print(dataset.embeddingsbigru.value_counts()/len(dataset.embeddingsbigru))\n",
    "print(dataset.embeddingsinheritancebigru.value_counts()/len(dataset.embeddingsinheritancebigru))"
   ],
   "metadata": {
    "collapsed": false,
    "pycharm": {
     "name": "#%%\n"
    }
   }
  },
  {
   "cell_type": "code",
   "execution_count": 5,
   "outputs": [],
   "source": [
    "binwidth = 2000\n",
    "MFUhistory = []\n",
    "\n",
    "for i in range(int(len(dataset)/binwidth)+1):\n",
    "    start = i*binwidth\n",
    "    end = min(i*binwidth+binwidth, len(dataset)-1)\n",
    "    subset = dataset.MFU[start:end]\n",
    "    MFUhistory.append(sum(subset)/len(subset))"
   ],
   "metadata": {
    "collapsed": false,
    "pycharm": {
     "name": "#%%\n"
    }
   }
  },
  {
   "cell_type": "code",
   "execution_count": 6,
   "outputs": [],
   "source": [
    "binwidth = 2000\n",
    "MRUhistory = []\n",
    "\n",
    "for i in range(int(len(dataset)/binwidth)+1):\n",
    "    start = i*binwidth\n",
    "    end = min(i*binwidth+binwidth, len(dataset)-1)\n",
    "    subset = dataset.MRU[start:end]\n",
    "    MRUhistory.append(sum(subset)/len(subset))"
   ],
   "metadata": {
    "collapsed": false,
    "pycharm": {
     "name": "#%%\n"
    }
   }
  },
  {
   "cell_type": "code",
   "execution_count": 7,
   "outputs": [],
   "source": [
    "binwidth = 2000\n",
    "lstm64history = []\n",
    "\n",
    "for i in range(int(len(dataset)/binwidth)+1):\n",
    "    start = i*binwidth\n",
    "    end = min(i*binwidth+binwidth, len(dataset)-1)\n",
    "    subset = dataset.onehotlstm64[start:end]\n",
    "    lstm64history.append(sum(subset)/len(subset))"
   ],
   "metadata": {
    "collapsed": false,
    "pycharm": {
     "name": "#%%\n"
    }
   }
  },
  {
   "cell_type": "code",
   "execution_count": 8,
   "outputs": [],
   "source": [
    "binwidth = 2000\n",
    "lstm128history = []\n",
    "\n",
    "for i in range(int(len(dataset)/binwidth)+1):\n",
    "    start = i*binwidth\n",
    "    end = min(i*binwidth+binwidth, len(dataset)-1)\n",
    "    subset = dataset.onehotlstm128[start:end]\n",
    "    lstm128history.append(sum(subset)/len(subset))"
   ],
   "metadata": {
    "collapsed": false,
    "pycharm": {
     "name": "#%%\n"
    }
   }
  },
  {
   "cell_type": "code",
   "execution_count": 9,
   "outputs": [],
   "source": [
    "binwidth = 2000\n",
    "gru64history = []\n",
    "\n",
    "for i in range(int(len(dataset)/binwidth)+1):\n",
    "    start = i*binwidth\n",
    "    end = min(i*binwidth+binwidth, len(dataset)-1)\n",
    "    subset = dataset.onehotgru64[start:end]\n",
    "    gru64history.append(sum(subset)/len(subset))"
   ],
   "metadata": {
    "collapsed": false,
    "pycharm": {
     "name": "#%%\n"
    }
   }
  },
  {
   "cell_type": "code",
   "execution_count": 10,
   "outputs": [],
   "source": [
    "binwidth = 2000\n",
    "gru128history = []\n",
    "\n",
    "for i in range(int(len(dataset)/binwidth)+1):\n",
    "    start = i*binwidth\n",
    "    end = min(i*binwidth+binwidth, len(dataset)-1)\n",
    "    subset = dataset.onehotgru128[start:end]\n",
    "    gru128history.append(sum(subset)/len(subset))"
   ],
   "metadata": {
    "collapsed": false,
    "pycharm": {
     "name": "#%%\n"
    }
   }
  },
  {
   "cell_type": "code",
   "execution_count": 11,
   "outputs": [],
   "source": [
    "binwidth = 2000\n",
    "bigru64history = []\n",
    "\n",
    "for i in range(int(len(dataset)/binwidth)+1):\n",
    "    start = i*binwidth\n",
    "    end = min(i*binwidth+binwidth, len(dataset)-1)\n",
    "    subset = dataset.onehotbigru[start:end]\n",
    "    bigru64history.append(sum(subset)/len(subset))"
   ],
   "metadata": {
    "collapsed": false,
    "pycharm": {
     "name": "#%%\n"
    }
   }
  },
  {
   "cell_type": "code",
   "execution_count": 12,
   "outputs": [],
   "source": [
    "binwidth = 2000\n",
    "bigruemb64history = []\n",
    "\n",
    "for i in range(int(len(dataset)/binwidth)+1):\n",
    "    start = i*binwidth\n",
    "    end = min(i*binwidth+binwidth, len(dataset)-1)\n",
    "    subset = dataset.embeddingsbigru[start:end]\n",
    "    bigruemb64history.append(sum(subset)/len(subset))"
   ],
   "metadata": {
    "collapsed": false,
    "pycharm": {
     "name": "#%%\n"
    }
   }
  },
  {
   "cell_type": "code",
   "execution_count": 13,
   "outputs": [],
   "source": [
    "binwidth = 2000\n",
    "bigruemb64plushistory = []\n",
    "\n",
    "for i in range(int(len(dataset)/binwidth)+1):\n",
    "    start = i*binwidth\n",
    "    end = min(i*binwidth+binwidth, len(dataset)-1)\n",
    "    subset = dataset.embeddingsinheritancebigru[start:end]\n",
    "    bigruemb64plushistory.append(sum(subset)/len(subset))"
   ],
   "metadata": {
    "collapsed": false,
    "pycharm": {
     "name": "#%%\n"
    }
   }
  },
  {
   "cell_type": "code",
   "execution_count": 14,
   "outputs": [
    {
     "data": {
      "text/plain": "<Figure size 432x288 with 1 Axes>",
      "image/png": "[encoded data removed]"
     },
     "metadata": {
      "needs_background": "light"
     },
     "output_type": "display_data"
    }
   ],
   "source": [
    "binwidth = 2000\n",
    "labels=[min(i*binwidth+binwidth, len(dataset)-1) for i in range(int(len(dataset)/binwidth)+1)]\n",
    "\n",
    "# plt.title(' Accuraatheid op de online-learning dataset (Per 2000 geopende applicaties)')\n",
    "# plt.plot(labels, MFUhistory, label=\"MFU\")\n",
    "plt.plot(labels, MRUhistory, label=\"MRU\")\n",
    "# plt.plot(labels, lstm64history, label=\"lstm64\")\n",
    "# plt.plot(labels, lstm128history, 'g', label=\"lstm128\")\n",
    "# plt.plot(labels, gru64history, 'r', label=\"gru64\")\n",
    "# plt.plot(labels, gru128history, 'm', label=\"gru128\")\n",
    "plt.plot(labels, bigru64history, 'c', label=\"bigru64x2\")\n",
    "plt.plot(labels, bigruemb64history, 'tab:brown', label=\"bigruemb64x2\")\n",
    "plt.plot(labels, bigruemb64plushistory, 'y', label=\"bigruemb+64x2\")\n",
    "plt.legend()\n",
    "plt.savefig(\"outputdata/AccuracyOverTime.png\")\n",
    "plt.show()\n"
   ],
   "metadata": {
    "collapsed": false,
    "pycharm": {
     "name": "#%%\n"
    }
   }
  }
 ],
 "metadata": {
  "kernelspec": {
   "display_name": "Python 3",
   "language": "python",
   "name": "python3"
  },
  "language_info": {
   "codemirror_mode": {
    "name": "ipython",
    "version": 2
   },
   "file_extension": ".py",
   "mimetype": "text/x-python",
   "name": "python",
   "nbconvert_exporter": "python",
   "pygments_lexer": "ipython2",
   "version": "2.7.6"
  }
 },
 "nbformat": 4,
 "nbformat_minor": 0
}