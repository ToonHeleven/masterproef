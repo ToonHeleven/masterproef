{
 "cells": [
  {
   "cell_type": "markdown",
   "metadata": {
    "collapsed": true,
    "pycharm": {
     "name": "#%% md\n"
    }
   },
   "source": [
    "# Analyse van de experimenten"
   ]
  },
  {
   "cell_type": "code",
   "execution_count": 136,
   "outputs": [],
   "source": [
    "import pandas as pd\n",
    "import matplotlib.pyplot as plt"
   ],
   "metadata": {
    "collapsed": false,
    "pycharm": {
     "name": "#%%\n"
    }
   }
  },
  {
   "cell_type": "code",
   "execution_count": 137,
   "outputs": [
    {
     "data": {
      "text/plain": "     MRU    MFU  onehotlstm64  onehotlstm128  onehotgru64  onehotgru128  \\\n0  False   True          True           True         True          True   \n1  False   True          True           True         True          True   \n2   True  False          True           True         True          True   \n3  False  False         False          False        False         False   \n4  False   True          True           True        False         False   \n\n   onehotbigru  embeddingsbigru  embeddingsgru  \n0         True             True           True  \n1         True             True           True  \n2         True             True           True  \n3        False            False          False  \n4        False            False           True  ",
      "text/html": "<div>\n<style scoped>\n    .dataframe tbody tr th:only-of-type {\n        vertical-align: middle;\n    }\n\n    .dataframe tbody tr th {\n        vertical-align: top;\n    }\n\n    .dataframe thead th {\n        text-align: right;\n    }\n</style>\n<table border=\"1\" class=\"dataframe\">\n  <thead>\n    <tr style=\"text-align: right;\">\n      <th></th>\n      <th>MRU</th>\n      <th>MFU</th>\n      <th>onehotlstm64</th>\n      <th>onehotlstm128</th>\n      <th>onehotgru64</th>\n      <th>onehotgru128</th>\n      <th>onehotbigru</th>\n      <th>embeddingsbigru</th>\n      <th>embeddingsgru</th>\n    </tr>\n  </thead>\n  <tbody>\n    <tr>\n      <th>0</th>\n      <td>False</td>\n      <td>True</td>\n      <td>True</td>\n      <td>True</td>\n      <td>True</td>\n      <td>True</td>\n      <td>True</td>\n      <td>True</td>\n      <td>True</td>\n    </tr>\n    <tr>\n      <th>1</th>\n      <td>False</td>\n      <td>True</td>\n      <td>True</td>\n      <td>True</td>\n      <td>True</td>\n      <td>True</td>\n      <td>True</td>\n      <td>True</td>\n      <td>True</td>\n    </tr>\n    <tr>\n      <th>2</th>\n      <td>True</td>\n      <td>False</td>\n      <td>True</td>\n      <td>True</td>\n      <td>True</td>\n      <td>True</td>\n      <td>True</td>\n      <td>True</td>\n      <td>True</td>\n    </tr>\n    <tr>\n      <th>3</th>\n      <td>False</td>\n      <td>False</td>\n      <td>False</td>\n      <td>False</td>\n      <td>False</td>\n      <td>False</td>\n      <td>False</td>\n      <td>False</td>\n      <td>False</td>\n    </tr>\n    <tr>\n      <th>4</th>\n      <td>False</td>\n      <td>True</td>\n      <td>True</td>\n      <td>True</td>\n      <td>False</td>\n      <td>False</td>\n      <td>False</td>\n      <td>False</td>\n      <td>True</td>\n    </tr>\n  </tbody>\n</table>\n</div>"
     },
     "execution_count": 137,
     "metadata": {},
     "output_type": "execute_result"
    }
   ],
   "source": [
    "dataset = pd.read_csv(filepath_or_buffer=\"outputdata/accuracycomparison3.csv\")\n",
    "dataset.head()\n",
    "\n",
    "# embedding = pd.read_csv(filepath_or_buffer=\"outputdata/embeddingdimaccuracy.csv\")\n",
    "# embedding.head()"
   ],
   "metadata": {
    "collapsed": false,
    "pycharm": {
     "name": "#%%\n"
    }
   }
  },
  {
   "cell_type": "code",
   "execution_count": 138,
   "outputs": [
    {
     "name": "stdout",
     "output_type": "stream",
     "text": [
      "False    0.585263\n",
      "True     0.414737\n",
      "Name: MFU, dtype: float64\n",
      "False    0.673764\n",
      "True     0.326236\n",
      "Name: MRU, dtype: float64\n",
      "\n",
      "True     0.510545\n",
      "False    0.489455\n",
      "Name: onehotlstm64, dtype: float64\n",
      "True     0.516558\n",
      "False    0.483442\n",
      "Name: onehotlstm128, dtype: float64\n",
      "\n",
      "True     0.522686\n",
      "False    0.477314\n",
      "Name: onehotgru64, dtype: float64\n",
      "True     0.52634\n",
      "False    0.47366\n",
      "Name: onehotgru128, dtype: float64\n",
      "\n",
      "True     0.522111\n",
      "False    0.477889\n",
      "Name: onehotbigru, dtype: float64\n",
      "True     0.535806\n",
      "False    0.464194\n",
      "Name: embeddingsbigru, dtype: float64\n",
      "\n",
      "True     0.535345\n",
      "False    0.464655\n",
      "Name: embeddingsgru, dtype: float64\n"
     ]
    }
   ],
   "source": [
    "print(dataset.MFU.value_counts()/len(dataset.MFU))\n",
    "print(dataset.MRU.value_counts()/len(dataset.MRU))\n",
    "print()\n",
    "print(dataset.onehotlstm64.value_counts()/len(dataset.onehotlstm64))\n",
    "print(dataset.onehotlstm128.value_counts()/len(dataset.onehotlstm128))\n",
    "print()\n",
    "print(dataset.onehotgru64.value_counts()/len(dataset.onehotgru64))\n",
    "print(dataset.onehotgru128.value_counts()/len(dataset.onehotgru128))\n",
    "print()\n",
    "print(dataset.onehotbigru.value_counts()/len(dataset.onehotbigru))\n",
    "print(dataset.embeddingsbigru.value_counts()/len(dataset.embeddingsbigru))\n",
    "# print(dataset.embeddingsinheritancebigru.value_counts()/len(dataset.embeddingsinheritancebigru))\n",
    "print()\n",
    "print(dataset.embeddingsgru.value_counts()/len(dataset.embeddingsgru))"
   ],
   "metadata": {
    "collapsed": false,
    "pycharm": {
     "name": "#%%\n"
    }
   }
  },
  {
   "cell_type": "code",
   "execution_count": 139,
   "outputs": [],
   "source": [
    "binwidth = 2000\n",
    "MFUhistory = []\n",
    "\n",
    "for i in range(int(len(dataset)/binwidth)+1):\n",
    "    start = i*binwidth\n",
    "    end = min(i*binwidth+binwidth, len(dataset)-1)\n",
    "    subset = dataset.MFU[start:end]\n",
    "    MFUhistory.append(sum(subset)/len(subset))"
   ],
   "metadata": {
    "collapsed": false,
    "pycharm": {
     "name": "#%%\n"
    }
   }
  },
  {
   "cell_type": "code",
   "execution_count": 140,
   "outputs": [],
   "source": [
    "binwidth = 2000\n",
    "MRUhistory = []\n",
    "\n",
    "for i in range(int(len(dataset)/binwidth)+1):\n",
    "    start = i*binwidth\n",
    "    end = min(i*binwidth+binwidth, len(dataset)-1)\n",
    "    subset = dataset.MRU[start:end]\n",
    "    MRUhistory.append(sum(subset)/len(subset))"
   ],
   "metadata": {
    "collapsed": false,
    "pycharm": {
     "name": "#%%\n"
    }
   }
  },
  {
   "cell_type": "code",
   "execution_count": 141,
   "outputs": [],
   "source": [
    "binwidth = 2000\n",
    "lstm64history = []\n",
    "\n",
    "for i in range(int(len(dataset)/binwidth)+1):\n",
    "    start = i*binwidth\n",
    "    end = min(i*binwidth+binwidth, len(dataset)-1)\n",
    "    subset = dataset.onehotlstm64[start:end]\n",
    "    lstm64history.append(sum(subset)/len(subset))"
   ],
   "metadata": {
    "collapsed": false,
    "pycharm": {
     "name": "#%%\n"
    }
   }
  },
  {
   "cell_type": "code",
   "execution_count": 142,
   "outputs": [],
   "source": [
    "binwidth = 2000\n",
    "lstm128history = []\n",
    "\n",
    "for i in range(int(len(dataset)/binwidth)+1):\n",
    "    start = i*binwidth\n",
    "    end = min(i*binwidth+binwidth, len(dataset)-1)\n",
    "    subset = dataset.onehotlstm128[start:end]\n",
    "    lstm128history.append(sum(subset)/len(subset))"
   ],
   "metadata": {
    "collapsed": false,
    "pycharm": {
     "name": "#%%\n"
    }
   }
  },
  {
   "cell_type": "code",
   "execution_count": 143,
   "outputs": [],
   "source": [
    "binwidth = 2000\n",
    "gru64history = []\n",
    "\n",
    "for i in range(int(len(dataset)/binwidth)+1):\n",
    "    start = i*binwidth\n",
    "    end = min(i*binwidth+binwidth, len(dataset)-1)\n",
    "    subset = dataset.onehotgru64[start:end]\n",
    "    gru64history.append(sum(subset)/len(subset))"
   ],
   "metadata": {
    "collapsed": false,
    "pycharm": {
     "name": "#%%\n"
    }
   }
  },
  {
   "cell_type": "code",
   "execution_count": 144,
   "outputs": [],
   "source": [
    "binwidth = 2000\n",
    "gru128history = []\n",
    "\n",
    "for i in range(int(len(dataset)/binwidth)+1):\n",
    "    start = i*binwidth\n",
    "    end = min(i*binwidth+binwidth, len(dataset)-1)\n",
    "    subset = dataset.onehotgru128[start:end]\n",
    "    gru128history.append(sum(subset)/len(subset))"
   ],
   "metadata": {
    "collapsed": false,
    "pycharm": {
     "name": "#%%\n"
    }
   }
  },
  {
   "cell_type": "code",
   "execution_count": 145,
   "outputs": [],
   "source": [
    "binwidth = 2000\n",
    "bigru64history = []\n",
    "\n",
    "for i in range(int(len(dataset)/binwidth)+1):\n",
    "    start = i*binwidth\n",
    "    end = min(i*binwidth+binwidth, len(dataset)-1)\n",
    "    subset = dataset.onehotbigru[start:end]\n",
    "    bigru64history.append(sum(subset)/len(subset))"
   ],
   "metadata": {
    "collapsed": false,
    "pycharm": {
     "name": "#%%\n"
    }
   }
  },
  {
   "cell_type": "code",
   "execution_count": 146,
   "outputs": [],
   "source": [
    "binwidth = 2000\n",
    "bigruemb64history = []\n",
    "\n",
    "for i in range(int(len(dataset)/binwidth)+1):\n",
    "    start = i*binwidth\n",
    "    end = min(i*binwidth+binwidth, len(dataset)-1)\n",
    "    subset = dataset.embeddingsbigru[start:end]\n",
    "    bigruemb64history.append(sum(subset)/len(subset))"
   ],
   "metadata": {
    "collapsed": false,
    "pycharm": {
     "name": "#%%\n"
    }
   }
  },
  {
   "cell_type": "code",
   "execution_count": 147,
   "outputs": [],
   "source": [
    "binwidth = 2000\n",
    "gruemb128history = []\n",
    "\n",
    "for i in range(int(len(dataset)/binwidth)+1):\n",
    "    start = i*binwidth\n",
    "    end = min(i*binwidth+binwidth, len(dataset)-1)\n",
    "    subset = dataset.embeddingsgru[start:end]\n",
    "    gruemb128history.append(sum(subset)/len(subset))"
   ],
   "metadata": {
    "collapsed": false,
    "pycharm": {
     "name": "#%%\n"
    }
   }
  },
  {
   "cell_type": "code",
   "execution_count": 148,
   "outputs": [],
   "source": [
    "# binwidth = 2000\n",
    "# bigruemb64plushistory = []\n",
    "#\n",
    "# for i in range(int(len(dataset)/binwidth)+1):\n",
    "#     start = i*binwidth\n",
    "#     end = min(i*binwidth+binwidth, len(dataset)-1)\n",
    "#     subset = dataset.embeddingsinheritancebigru[start:end]\n",
    "#     bigruemb64plushistory.append(sum(subset)/len(subset))"
   ],
   "metadata": {
    "collapsed": false,
    "pycharm": {
     "name": "#%%\n"
    }
   }
  },
  {
   "cell_type": "code",
   "execution_count": 149,
   "outputs": [
    {
     "data": {
      "text/plain": "<Figure size 432x288 with 1 Axes>",
      "image/png": "[encoded data removed]"
     },
     "metadata": {
      "needs_background": "light"
     },
     "output_type": "display_data"
    }
   ],
   "source": [
    "binwidth = 2000\n",
    "labels=[min(i*binwidth+binwidth, len(dataset)-1) for i in range(int(len(dataset)/binwidth)+1)]\n",
    "\n",
    "hfont = {'fontname':'Times New Roman'}\n",
    "plt.title('Dataset 3', **hfont)\n",
    "# plt.plot(labels, MFUhistory, label=\"MFU\")\n",
    "# plt.plot(labels, MRUhistory, label=\"MRU\")\n",
    "# plt.plot(labels, lstm64history, 'b', label=\"lstm64\")\n",
    "# plt.plot(labels, lstm128history, 'g', label=\"lstm128\")\n",
    "# plt.plot(labels, gru64history, 'r', label=\"gru64\")\n",
    "plt.plot(labels, gru128history, 'm', label=\"gru128\")\n",
    "# plt.plot(labels, bigru64history, 'c', label=\"bigru64x2\")\n",
    "plt.plot(labels, bigruemb64history, 'c', label=\"bigruemb64x2\")\n",
    "plt.plot(labels, gruemb128history, 'r', label=\"gruemb128\")\n",
    "# plt.plot(labels, bigruemb64plushistory, 'y', label=\"bigruemb+64x2\")\n",
    "plt.legend()\n",
    "plt.savefig(\"outputdata/AccuracyOverTime.png\")\n",
    "plt.show()\n"
   ],
   "metadata": {
    "collapsed": false,
    "pycharm": {
     "name": "#%%\n"
    }
   }
  }
 ],
 "metadata": {
  "kernelspec": {
   "display_name": "Python 3",
   "language": "python",
   "name": "python3"
  },
  "language_info": {
   "codemirror_mode": {
    "name": "ipython",
    "version": 2
   },
   "file_extension": ".py",
   "mimetype": "text/x-python",
   "name": "python",
   "nbconvert_exporter": "python",
   "pygments_lexer": "ipython2",
   "version": "2.7.6"
  }
 },
 "nbformat": 4,
 "nbformat_minor": 0
}