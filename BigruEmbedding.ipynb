{
 "cells": [
  {
   "cell_type": "markdown",
   "metadata": {
    "collapsed": true,
    "pycharm": {
     "name": "#%% md\n"
    }
   },
   "source": [
    "# BIGRU model one-hot applicatie inputs"
   ]
  },
  {
   "cell_type": "code",
   "execution_count": 23,
   "outputs": [],
   "source": [
    "from torch import optim\n",
    "from data.dataloader import DatasetLoader, EventConnectionGraph\n",
    "from torch.utils.data import DataLoader\n",
    "import torch\n",
    "from models.BiGRU import BiGRU\n",
    "from models.MLP import MLP\n",
    "from torch import nn\n",
    "from tqdm import tqdm\n",
    "import pandas as pd\n",
    "import matplotlib.pyplot as plt"
   ],
   "metadata": {
    "collapsed": false,
    "pycharm": {
     "name": "#%%\n"
    }
   }
  },
  {
   "cell_type": "markdown",
   "source": [
    "## 1. Event connection graph aanmaken"
   ],
   "metadata": {
    "collapsed": false
   }
  },
  {
   "cell_type": "code",
   "execution_count": 24,
   "outputs": [],
   "source": [
    "removeapps = [\"Screen on (locked)\",\n",
    "              \"Screen off (locked)\",\n",
    "              \"Screen on (unlocked)\",\n",
    "              \"Screen off\",\n",
    "              \"Samsung Experience Service\",\n",
    "              \"Package installer\",\n",
    "              \"System UI\",\n",
    "              \"Customisation Service\",\n",
    "              \"Configuration update\",\n",
    "              \"EmergencyManagerService\",\n",
    "              \"DeviceKeystring\",\n",
    "              \"Samsung Keyboard\",\n",
    "              \"HwModuleTest\",\n",
    "              \"Device shutdown\",\n",
    "              \"Device boot\"]\n",
    "eventconnectiongraph = EventConnectionGraph(\"eventlog/phone_usage_cleaned.csv\",\n",
    "                                            nr_samples=2000, d=900, T=1200,\n",
    "                                            removeapps=removeapps,\n",
    "                                            nr_generated=100000)\n",
    "datasampler = DataLoader(eventconnectiongraph, batch_size=16)"
   ],
   "metadata": {
    "collapsed": false,
    "pycharm": {
     "name": "#%%\n"
    }
   }
  },
  {
   "cell_type": "markdown",
   "source": [
    "## 2. Embeddings pre-trainen op gegenereerde applicatie paren"
   ],
   "metadata": {
    "collapsed": false
   }
  },
  {
   "cell_type": "code",
   "execution_count": 25,
   "outputs": [],
   "source": [
    "device = torch.device(\"cuda:0\" if torch.cuda.is_available() else \"cpu\")\n",
    "mlp = MLP(max_apps=eventconnectiongraph.nr_apps,\n",
    "          src_dim=6)\n",
    "mlp.to(device=device)\n",
    "criterion = nn.CrossEntropyLoss()\n",
    "optimizer = optim.Adam(mlp.parameters(), lr=0.001)"
   ],
   "metadata": {
    "collapsed": false,
    "pycharm": {
     "name": "#%%\n"
    }
   }
  },
  {
   "cell_type": "code",
   "execution_count": 26,
   "outputs": [
    {
     "name": "stdout",
     "output_type": "stream",
     "text": [
      "0.12855\n"
     ]
    }
   ],
   "source": [
    "traincorrect = 0\n",
    "sample = 0\n",
    "epoch = []\n",
    "\n",
    "for prev_app_index, next_app_index in datasampler:\n",
    "    prev_app_index, next_app_index = prev_app_index.to(device=device), next_app_index.to(device=device)\n",
    "\n",
    "    # Batch size increment\n",
    "    sample+=prev_app_index.shape[0]\n",
    "\n",
    "    # Make prediction\n",
    "    outputs = mlp(prev_app_index)\n",
    "\n",
    "    # Measure accuracy top-1\n",
    "    arg_maxs = torch.argmax(outputs, dim=1)\n",
    "    traincorrect += torch.sum(next_app_index==arg_maxs).item()\n",
    "\n",
    "    # print(outputs[0].shape)\n",
    "    # Calculate loss\n",
    "    loss = criterion(outputs, next_app_index)\n",
    "\n",
    "    # Cat Crossentropy met logsoftmax\n",
    "    loss.backward()\n",
    "    optimizer.step()\n",
    "\n",
    "    # Reset gradient\n",
    "    optimizer.zero_grad()\n",
    "\n",
    "print(traincorrect/(sample))"
   ],
   "metadata": {
    "collapsed": false,
    "pycharm": {
     "name": "#%%\n"
    }
   }
  },
  {
   "cell_type": "markdown",
   "source": [
    "## 3. Dataset uitlezen en cleanen"
   ],
   "metadata": {
    "collapsed": false
   }
  },
  {
   "cell_type": "code",
   "execution_count": 27,
   "outputs": [],
   "source": [
    "\"\"\" batch size 16 voor pre-trainen \"\"\"\n",
    "dataset = DatasetLoader(\"eventlog/phone_usage_cleaned.csv\", seq_length=10)\n",
    "removeapps = [\"Screen on (locked)\",\n",
    "              \"Screen off (locked)\",\n",
    "              \"Screen on (unlocked)\",\n",
    "              \"Screen off\",\n",
    "              \"Samsung Experience Service\",\n",
    "              \"Package installer\",\n",
    "              \"System UI\",\n",
    "              \"Customisation Service\",\n",
    "              \"Configuration update\",\n",
    "              \"EmergencyManagerService\",\n",
    "              \"DeviceKeystring\",\n",
    "              \"Samsung Keyboard\",\n",
    "              \"HwModuleTest\",\n",
    "              \"Device shutdown\",\n",
    "              \"Device boot\"]\n",
    "dataset.clean(removeapps)\n",
    "train_dataloader = DataLoader(dataset, batch_size=16)"
   ],
   "metadata": {
    "collapsed": false,
    "pycharm": {
     "name": "#%%\n"
    }
   }
  },
  {
   "cell_type": "markdown",
   "source": [
    "## 4. bigru model aanmaken en pre-trainen"
   ],
   "metadata": {
    "collapsed": false,
    "pycharm": {
     "name": "#%% md\n"
    }
   }
  },
  {
   "cell_type": "code",
   "execution_count": 28,
   "outputs": [
    {
     "data": {
      "text/plain": "BiGRU(\n  (src_embedding): Embedding(200, 6)\n  (bigru): GRU(6, 64, batch_first=True, bidirectional=True)\n  (fc1): Linear(in_features=128, out_features=200, bias=True)\n)"
     },
     "execution_count": 28,
     "metadata": {},
     "output_type": "execute_result"
    }
   ],
   "source": [
    "\"\"\" stel device in als CUDA indien mogelijk \"\"\"\n",
    "device = torch.device(\"cuda:0\" if torch.cuda.is_available() else \"cpu\")\n",
    "\n",
    "\"\"\" Gebruikt BiGRu klasse\n",
    "    Vervangt embedding matrix door eenheidsmatrix met vaste gewichten\n",
    "    Trainingsnelheid zal iets lager zijn dan model met echte one-hot input\n",
    "\"\"\"\n",
    "bigru = BiGRU(max_apps=200,\n",
    "              n_gru=64,\n",
    "              src_dim=6)\n",
    "criterion = nn.CrossEntropyLoss()\n",
    "optimizer = optim.Adam(bigru.parameters(), lr=0.001)\n",
    "\n",
    "main_diagonal = torch.ones(size=[200])\n",
    "bigru.to(device=device)\n",
    "embedding = torch.cat((mlp.src_embedding.weight, bigru.src_embedding.weight[eventconnectiongraph.nr_apps:]), dim=0)\n",
    "bigru.src_embedding.weight=torch.nn.Parameter(embedding)\n",
    "bigru.src_embedding.weight.requires_grad = False\n",
    "\n",
    "bigru.to(device=device)"
   ],
   "metadata": {
    "collapsed": false,
    "pycharm": {
     "name": "#%%\n"
    }
   }
  },
  {
   "cell_type": "code",
   "execution_count": 29,
   "outputs": [],
   "source": [
    "epochs = 10\n",
    "training_samples = 1600\n",
    "testing_samples = 400\n",
    "\n",
    "traincorrect = 0\n",
    "valcorrect = 0\n",
    "\n",
    "trainacchistory = []\n",
    "trainlosshistory = []\n",
    "valacchistory = []\n",
    "vallosshistory = []\n",
    "epoch = []\n",
    "\n",
    "for j in range(epochs):\n",
    "\n",
    "    sample = 0\n",
    "    traincorrect = 0\n",
    "    trainloss = 0\n",
    "    valcorrect = 0\n",
    "    valloss = 0\n",
    "\n",
    "    for prev_apps_indices, curr_app_index in train_dataloader:\n",
    "        prev_apps_indices, curr_app_index = prev_apps_indices.to(device), curr_app_index.to(device)\n",
    "\n",
    "        h = bigru.init_hidden(batch_size=16).to(device)\n",
    "\n",
    "        # Niet meer dan 1600 eerste samples gebruiken\n",
    "        if sample < training_samples:\n",
    "            # Batch size increment\n",
    "            sample+=prev_apps_indices.shape[0]\n",
    "\n",
    "            # Reset gradient\n",
    "            optimizer.zero_grad()\n",
    "\n",
    "            # Output continue logit vector\n",
    "            outputs, h = bigru(prev_apps_indices, h)\n",
    "\n",
    "            # Cat Crossentropy met logsoftmax\n",
    "            loss = criterion(outputs, curr_app_index)\n",
    "\n",
    "            trainloss += loss.item()*prev_apps_indices.shape[0]\n",
    "\n",
    "            # Optimize weights\n",
    "            loss.backward()\n",
    "            optimizer.step()\n",
    "\n",
    "            _, predicted = torch.max(outputs.data, 1)\n",
    "            traincorrect += (predicted == curr_app_index).sum().item()\n",
    "\n",
    "        elif training_samples <= sample < training_samples + testing_samples:\n",
    "            # Batch size increment\n",
    "            sample+=prev_apps_indices.shape[0]\n",
    "\n",
    "            # Reset gradient\n",
    "            optimizer.zero_grad()\n",
    "\n",
    "            # Output continue logit vector\n",
    "            outputs, h = bigru(prev_apps_indices, h)\n",
    "\n",
    "            # Cat Crossentropy met logsoftmax\n",
    "            loss = criterion(outputs, curr_app_index)\n",
    "\n",
    "            valloss += loss.item()*prev_apps_indices.shape[0]\n",
    "\n",
    "            _, predicted = torch.max(outputs.data, 1)\n",
    "            valcorrect += (predicted == curr_app_index).sum().item()\n",
    "\n",
    "        else:\n",
    "            break\n",
    "\n",
    "    trainacchistory.append(traincorrect/(training_samples))\n",
    "    trainlosshistory.append(trainloss/(training_samples))\n",
    "    valacchistory.append(valcorrect/(testing_samples))\n",
    "    vallosshistory.append(valloss/(testing_samples))\n",
    "    epoch.append(j)\n",
    "\n",
    "\n",
    "    # print(\"epoch nr: \" +  str(j))\n",
    "    # print(traincorrect/(training_samples))\n",
    "    # print(valcorrect/(testing_samples))\n",
    "    # print()"
   ],
   "metadata": {
    "collapsed": false,
    "pycharm": {
     "name": "#%%\n"
    }
   }
  },
  {
   "cell_type": "markdown",
   "source": [
    "## 5. Plot pre-training history"
   ],
   "metadata": {
    "collapsed": false
   }
  },
  {
   "cell_type": "code",
   "execution_count": 30,
   "outputs": [
    {
     "data": {
      "text/plain": "<Figure size 432x288 with 1 Axes>",
      "image/png": "[encoded data removed]"
     },
     "metadata": {
      "needs_background": "light"
     },
     "output_type": "display_data"
    },
    {
     "name": "stdout",
     "output_type": "stream",
     "text": [
      "0.3075\n",
      "2.831776623725891\n"
     ]
    },
    {
     "data": {
      "text/plain": "<Figure size 432x288 with 1 Axes>",
      "image/png": "[encoded data removed]"
     },
     "metadata": {
      "needs_background": "light"
     },
     "output_type": "display_data"
    }
   ],
   "source": [
    "plt.plot(trainacchistory, label=\"training accuraatheid\")\n",
    "plt.plot(valacchistory, label=\"testing accuraatheid\")\n",
    "plt.legend()\n",
    "plt.xlabel('epochs')\n",
    "plt.ylabel('accuraatheid')\n",
    "plt.xticks(epoch)\n",
    "plt.savefig(fname=\"outputdata/bigruonehotpretrainacc.png\")\n",
    "plt.show()\n",
    "print(max(valacchistory))\n",
    "\n",
    "plt.plot(trainlosshistory, label=\"training loss\")\n",
    "plt.plot(vallosshistory, label=\"testing loss\")\n",
    "plt.legend()\n",
    "plt.xlabel('epochs')\n",
    "plt.ylabel('loss')\n",
    "plt.xticks(epoch)\n",
    "plt.savefig(fname=\"outputdata/bigruonehotpretrainloss.png\")\n",
    "plt.show()\n",
    "print(min(vallosshistory))"
   ],
   "metadata": {
    "collapsed": false,
    "pycharm": {
     "name": "#%%\n"
    }
   }
  },
  {
   "cell_type": "markdown",
   "source": [
    "## 6. bigru model online learning"
   ],
   "metadata": {
    "collapsed": false
   }
  },
  {
   "cell_type": "code",
   "execution_count": 31,
   "outputs": [],
   "source": [
    "\"\"\" Dataloader mag nu niet langer batches produceren \"\"\"\n",
    "train_dataloader = DataLoader(dataset, batch_size=1)"
   ],
   "metadata": {
    "collapsed": false,
    "pycharm": {
     "name": "#%%\n"
    }
   }
  },
  {
   "cell_type": "code",
   "execution_count": 32,
   "outputs": [
    {
     "name": "stderr",
     "output_type": "stream",
     "text": [
      "100%|██████████| 33627/33627 [01:16<00:00, 441.40it/s]\n"
     ]
    }
   ],
   "source": [
    "bigru.src_embedding.weight.requires_grad = True\n",
    "running_accuracy_list = []\n",
    "sample = 0\n",
    "h = bigru.init_hidden(batch_size=1).to(device)\n",
    "\n",
    "for prev_apps_indices, curr_app_index in tqdm(train_dataloader):\n",
    "    prev_apps_indices, curr_app_index = prev_apps_indices.to(device), curr_app_index.to(device)\n",
    "\n",
    "    # Online learning, 1 sample\n",
    "    sample += 1\n",
    "\n",
    "    if sample > training_samples + testing_samples - 9:\n",
    "\n",
    "        # Make prediction\n",
    "        outputs, h = bigru(prev_apps_indices, h)\n",
    "\n",
    "        # Measure accuracy top-k\n",
    "        _, predicted = torch.topk(outputs.data, 5)\n",
    "        running_accuracy_list.append(curr_app_index in predicted)\n",
    "\n",
    "        # Calculate loss\n",
    "        loss = criterion(outputs, curr_app_index)\n",
    "\n",
    "        # Cat Crossentropy met logsoftmax\n",
    "        loss.backward()\n",
    "        optimizer.step()\n",
    "\n",
    "        # Reset gradient\n",
    "        optimizer.zero_grad()"
   ],
   "metadata": {
    "collapsed": false,
    "pycharm": {
     "name": "#%%\n"
    }
   }
  },
  {
   "cell_type": "code",
   "execution_count": 33,
   "outputs": [
    {
     "name": "stdout",
     "output_type": "stream",
     "text": [
      "0.7209824250853458\n",
      "31636\n"
     ]
    }
   ],
   "source": [
    "print(sum(running_accuracy_list)/len(running_accuracy_list))\n",
    "print(len(running_accuracy_list))"
   ],
   "metadata": {
    "collapsed": false,
    "pycharm": {
     "name": "#%%\n"
    }
   }
  },
  {
   "cell_type": "markdown",
   "source": [
    "## 7. Running accuracy opslaan"
   ],
   "metadata": {
    "collapsed": false
   }
  },
  {
   "cell_type": "code",
   "execution_count": 35,
   "outputs": [
    {
     "data": {
      "text/plain": "     MFU    MRU  onehotbigru  onehotlstm128  onehotlstm64  onehotgru64  \\\n0   True   True         True           True          True         True   \n1  False  False        False          False         False        False   \n2  False   True        False          False         False        False   \n3  False   True        False          False         False        False   \n4  False   True        False          False         False        False   \n\n   onehotgru128  embeddingsbigru  \n0          True             True  \n1         False            False  \n2         False            False  \n3         False            False  \n4         False            False  ",
      "text/html": "<div>\n<style scoped>\n    .dataframe tbody tr th:only-of-type {\n        vertical-align: middle;\n    }\n\n    .dataframe tbody tr th {\n        vertical-align: top;\n    }\n\n    .dataframe thead th {\n        text-align: right;\n    }\n</style>\n<table border=\"1\" class=\"dataframe\">\n  <thead>\n    <tr style=\"text-align: right;\">\n      <th></th>\n      <th>MFU</th>\n      <th>MRU</th>\n      <th>onehotbigru</th>\n      <th>onehotlstm128</th>\n      <th>onehotlstm64</th>\n      <th>onehotgru64</th>\n      <th>onehotgru128</th>\n      <th>embeddingsbigru</th>\n    </tr>\n  </thead>\n  <tbody>\n    <tr>\n      <th>0</th>\n      <td>True</td>\n      <td>True</td>\n      <td>True</td>\n      <td>True</td>\n      <td>True</td>\n      <td>True</td>\n      <td>True</td>\n      <td>True</td>\n    </tr>\n    <tr>\n      <th>1</th>\n      <td>False</td>\n      <td>False</td>\n      <td>False</td>\n      <td>False</td>\n      <td>False</td>\n      <td>False</td>\n      <td>False</td>\n      <td>False</td>\n    </tr>\n    <tr>\n      <th>2</th>\n      <td>False</td>\n      <td>True</td>\n      <td>False</td>\n      <td>False</td>\n      <td>False</td>\n      <td>False</td>\n      <td>False</td>\n      <td>False</td>\n    </tr>\n    <tr>\n      <th>3</th>\n      <td>False</td>\n      <td>True</td>\n      <td>False</td>\n      <td>False</td>\n      <td>False</td>\n      <td>False</td>\n      <td>False</td>\n      <td>False</td>\n    </tr>\n    <tr>\n      <th>4</th>\n      <td>False</td>\n      <td>True</td>\n      <td>False</td>\n      <td>False</td>\n      <td>False</td>\n      <td>False</td>\n      <td>False</td>\n      <td>False</td>\n    </tr>\n  </tbody>\n</table>\n</div>"
     },
     "execution_count": 35,
     "metadata": {},
     "output_type": "execute_result"
    }
   ],
   "source": [
    "AccuracyComparison = pd.read_csv(\"outputdata/accuracycomparison.csv\", index_col=False)\n",
    "AccuracyComparison[\"embeddingsbigru\"] = running_accuracy_list\n",
    "AccuracyComparison.to_csv(\"outputdata/accuracycomparison.csv\", index=False)\n",
    "AccuracyComparison.head()\n"
   ],
   "metadata": {
    "collapsed": false,
    "pycharm": {
     "name": "#%%\n"
    }
   }
  }
 ],
 "metadata": {
  "kernelspec": {
   "display_name": "Python 3",
   "language": "python",
   "name": "python3"
  },
  "language_info": {
   "codemirror_mode": {
    "name": "ipython",
    "version": 2
   },
   "file_extension": ".py",
   "mimetype": "text/x-python",
   "name": "python",
   "nbconvert_exporter": "python",
   "pygments_lexer": "ipython2",
   "version": "2.7.6"
  }
 },
 "nbformat": 4,
 "nbformat_minor": 0
}