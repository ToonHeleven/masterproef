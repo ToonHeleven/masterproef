{
 "cells": [
  {
   "cell_type": "markdown",
   "metadata": {
    "collapsed": true,
    "pycharm": {
     "name": "#%% md\n"
    }
   },
   "source": [
    "# Most Frequently Used next-app prediction"
   ]
  },
  {
   "cell_type": "code",
   "execution_count": 38,
   "outputs": [],
   "source": [
    "from torch import optim\n",
    "from data.dataloader import DatasetLoader\n",
    "from torch.utils.data import DataLoader\n",
    "import torch\n",
    "from models.BiGRU import BiGRU\n",
    "from torch import nn\n",
    "from tqdm import tqdm\n",
    "import numpy as np\n",
    "import pandas as pd\n",
    "import matplotlib.pyplot as plt"
   ],
   "metadata": {
    "collapsed": false,
    "pycharm": {
     "name": "#%%\n"
    }
   }
  },
  {
   "cell_type": "markdown",
   "source": [
    "## 1. Dataset uitlezen"
   ],
   "metadata": {
    "collapsed": false
   }
  },
  {
   "cell_type": "code",
   "execution_count": 39,
   "outputs": [],
   "source": [
    "\"\"\" batch size 16 voor pre-trainen \"\"\"\n",
    "# dataset 1\n",
    "# dataset = DatasetLoader(\"eventlog/phone_usage_cleaned.csv\", seq_length=1)\n",
    "\n",
    "# dataset 2\n",
    "# dataset = DatasetLoader(\"eventlog/phone_usage_cleaned2.csv\", seq_length=1)\n",
    "\n",
    "# dataset 3\n",
    "dataset = DatasetLoader(\"eventlog/phone_usage_cleaned3.csv\", seq_length=1)\n",
    "\n",
    "removeapps = [\"Screen on (locked)\",\n",
    "              \"Screen off (locked)\",\n",
    "              \"Screen on (unlocked)\",\n",
    "              \"Screen off\",\n",
    "              \"Samsung Experience Service\",\n",
    "              \"Package installer\",\n",
    "              \"System UI\",\n",
    "              \"Customisation Service\",\n",
    "              \"Configuration update\",\n",
    "              \"EmergencyManagerService\",\n",
    "              \"DeviceKeystring\",\n",
    "              \"Samsung Keyboard\",\n",
    "              \"HwModuleTest\",\n",
    "              \"Device shutdown\",\n",
    "              \"Device boot\"\"com.android.systemui\",\n",
    "              \"com.samsung.android.securitylogagent\",\n",
    "              \"com.samsung.android.app.galaxyfinder\",\n",
    "              \"com.samsung.android.incallui\",\n",
    "              \"com.samsung.android.dialer\",\n",
    "              \"com.sec.android.app.simsettingmgr\",\n",
    "              \"com.samsung.android.app.telephonyui\",\n",
    "              \"com.sec.android.wallpapercropper2\",\n",
    "              \"com.samsung.android.kidsinstaller\",\n",
    "              \"com.sec.android.app.soundalive\",\n",
    "              \"com.samsung.android.setting.multisound\",\n",
    "              \"com.wssyncmldm\",\n",
    "              \"com.sec.android.preloadinstaller\",\n",
    "              \"com.samsung.android.game.gametools\",\n",
    "              \"com.android.settings.intelligence\",\n",
    "              \"com.samsung.android.app.smartcapture\",\n",
    "              \"com.samsung.android.visionintelligence\",\n",
    "              \"com.samsung.android.MtpApplication\",\n",
    "              \"com.android.captiveportallogin\",\n",
    "              \"com.samsung.accessibility\",\n",
    "              \"com.mgoogle.android.gms\",\n",
    "              \"com.android.providers.media\",\n",
    "              \"com.android.server.telecom\",\n",
    "              \"com.diotek.sec.lookup.dictionary\",\n",
    "              \"Permissions Controller\",\n",
    "              \"com.samsung.app.newtrim\",\n",
    "              \"S Suggest\",\n",
    "              \"com.samsung.android.mdx.quickboard\",\n",
    "              \"com.osp.app.signin\",\n",
    "              \"Tool voor gegevensherstel\",\n",
    "              \"com.samsung.android.bixby.agent\",\n",
    "              \"DocumentsUI\",\n",
    "              \"com.samsung.android.bluelightfilter\",\n",
    "              \"android.instant_app\",\n",
    "              \"Samsung Cloud Wear\",\n",
    "              \"com.samsung.android.svoiceime\",\n",
    "              \"com.samsung.android.rubin.app\",\n",
    "              \"com.samsung.android.honeyboard\",\n",
    "              \"Samsung Global Goals\",\n",
    "              \"com.samsung.android.motionphoto.viewer\",\n",
    "              \"com.samsung.android.net.wifi.wifiguider\"\"\"\n",
    "              \"com.aura.oobe.samsung.gl\",\n",
    "              \"com.samsung.android.secsoundpicker\",\n",
    "              \"com.samsung.android.service.tagservice\",\n",
    "              \"com.samsung.android.arzone\",\n",
    "              \"com.samsung.android.game.gamehome\",\n",
    "              \"com.sec.android.app.vepreload\",\n",
    "              \"Android\",\n",
    "              \"com.samsung.android.smartmirroring\",\n",
    "              \"Captive Portal\",\n",
    "              \"com.android.systemui\",\n",
    "              \"OnePlus Launcher\",\n",
    "              \"com.oneplus.opbackup\",\n",
    "              \"com.android.documentsui\",\n",
    "              \"com.android.mms\",\n",
    "              \"com.google.android.packageinstaller\",\n",
    "              \"com.android.companiondevicemanager\",\n",
    "              \"com.android.server.telecom\",\n",
    "              \"com.android.captiveportallogin\",\n",
    "              \"com.android.printspooler\",\n",
    "              \"com.oneplus.healthcheck\",\n",
    "              \"com.android.hotwordenrollment.okgoogle\",\n",
    "              \"com.android.emergency\",\n",
    "              \"Gboard: het Google-toetsenbord\",\n",
    "              \"com.android.vpndialogs\",\n",
    "              \"com.oneplus.security\",\n",
    "              \"com.qualcomm.qti.networksetting\",\n",
    "              \"com.android.settings.intelligence\",\n",
    "              \"Device ID\",\n",
    "              \"com.android.providers.downloads.ui\",\n",
    "              \"com.android.bips\",\n",
    "              \"com.apkpure.aegon\",\n",
    "              \"com.android.nfc\",\n",
    "              \"OnePlus Nord AR\",\n",
    "              \"com.android.packageinstaller\",\n",
    "              \"com.bluestacks.appmart\",\n",
    "              \"com.uncube.account\",\n",
    "              \"com.android.provision\",\n",
    "              \"com.android.certinstaller\",\n",
    "              \"EXT Services\",\n",
    "              \"DocumentsUI\",\n",
    "              \"Permissions Controller\",\n",
    "              \"com.oneplus.wifiapsettings\",\n",
    "              \"Telefoon van Google\",\n",
    "              \"com.google.android.setupwizard\",\n",
    "              \"com.oneplus.setupwizard\",\n",
    "              \"Search Engine Selector\",\n",
    "              \"Android\",\n",
    "              \"com.android.stk\",\n",
    "              \"Captive Portal\",\n",
    "              \"com.android.systemui\"]\n",
    "dataset.clean(removeapps)\n",
    "\n",
    "train_dataloader = DataLoader(dataset, batch_size=1)"
   ],
   "metadata": {
    "collapsed": false,
    "pycharm": {
     "name": "#%%\n"
    }
   }
  },
  {
   "cell_type": "markdown",
   "source": [
    "## initialiseer MRU waarden na 2000 eerste applicaties"
   ],
   "metadata": {
    "collapsed": false,
    "pycharm": {
     "name": "#%% md\n"
    }
   }
  },
  {
   "cell_type": "code",
   "execution_count": 40,
   "outputs": [
    {
     "name": "stdout",
     "output_type": "stream",
     "text": [
      "[ 8 20  3  2  4]\n"
     ]
    }
   ],
   "source": [
    "mru = np.full(shape=(5,), fill_value=5000, dtype=np.int) # value==app_index, fill_value init op waarde>max(app_index)\n",
    "nr_opened_apps=0\n",
    "\n",
    "for prev_app_index, _ in train_dataloader:\n",
    "    if prev_app_index.item() in mru:\n",
    "        mru = mru[mru!=prev_app_index.item()]\n",
    "        mru = np.append(mru, prev_app_index, axis=0)\n",
    "    else:\n",
    "        mru[0:4] = mru[1:5]\n",
    "        mru[4] = prev_app_index.item()\n",
    "\n",
    "    nr_opened_apps+=1\n",
    "    if nr_opened_apps==2000:\n",
    "        print(mru)\n",
    "        break"
   ],
   "metadata": {
    "collapsed": false,
    "pycharm": {
     "name": "#%%\n"
    }
   }
  },
  {
   "cell_type": "markdown",
   "source": [
    "## Maak predicties en update MFU waarden voor de rest van de applicaties"
   ],
   "metadata": {
    "collapsed": false,
    "pycharm": {
     "name": "#%% md\n"
    }
   }
  },
  {
   "cell_type": "code",
   "execution_count": 41,
   "outputs": [
    {
     "name": "stdout",
     "output_type": "stream",
     "text": [
      "32.62364415801133\n",
      "34757\n"
     ]
    }
   ],
   "source": [
    "nr_opened_apps = 0\n",
    "running_accuracy_list = []\n",
    "\n",
    "for _, next_app_index in train_dataloader:\n",
    "\n",
    "    nr_opened_apps+=1\n",
    "    if nr_opened_apps > 2000:\n",
    "        running_accuracy_list.append(next_app_index.item() in mru)\n",
    "\n",
    "        if next_app_index.item() in mru:\n",
    "            mru = mru[mru!=next_app_index.item()]\n",
    "            mru = np.append(mru, next_app_index, axis=0)\n",
    "        else:\n",
    "            mru[0:4] = mru[1:5]\n",
    "            mru[4] = next_app_index.item()\n",
    "\n",
    "print(sum(running_accuracy_list)/len(running_accuracy_list)*100)\n",
    "print(len(running_accuracy_list))"
   ],
   "metadata": {
    "collapsed": false,
    "pycharm": {
     "name": "#%%\n"
    }
   }
  },
  {
   "cell_type": "markdown",
   "source": [
    "## Accuracy uitschrijven naar comparison"
   ],
   "metadata": {
    "collapsed": false
   }
  },
  {
   "cell_type": "code",
   "execution_count": 42,
   "outputs": [],
   "source": [
    "# AccuracyComparison = pd.DataFrame()\n",
    "\n",
    "# dataset 1\n",
    "# AccuracyComparison = pd.read_csv(\"outputdata/accuracycomparison.csv\", index_col=False)\n",
    "# AccuracyComparison[\"MRU\"] = running_accuracy_list\n",
    "# AccuracyComparison.to_csv(\"outputdata/accuracycomparison.csv\", index=False)\n",
    "# AccuracyComparison.head()\n",
    "\n",
    "# dataset 2\n",
    "# AccuracyComparison = pd.read_csv(\"outputdata/accuracycomparison2.csv\", index_col=False)\n",
    "# AccuracyComparison[\"MRU\"] = running_accuracy_list\n",
    "# AccuracyComparison.to_csv(\"outputdata/accuracycomparison2.csv\", index=False)\n",
    "# AccuracyComparison.head()\n",
    "\n",
    "# dataset 3\n",
    "# AccuracyComparison = pd.read_csv(\"outputdata/accuracycomparison3.csv\", index_col=False)\n",
    "# AccuracyComparison[\"MRU\"] = running_accuracy_list\n",
    "# AccuracyComparison.to_csv(\"outputdata/accuracycomparison3.csv\", index=False)\n",
    "# AccuracyComparison.head()\n"
   ],
   "metadata": {
    "collapsed": false,
    "pycharm": {
     "name": "#%%\n"
    }
   }
  }
 ],
 "metadata": {
  "kernelspec": {
   "display_name": "Python 3",
   "language": "python",
   "name": "python3"
  },
  "language_info": {
   "codemirror_mode": {
    "name": "ipython",
    "version": 2
   },
   "file_extension": ".py",
   "mimetype": "text/x-python",
   "name": "python",
   "nbconvert_exporter": "python",
   "pygments_lexer": "ipython2",
   "version": "2.7.6"
  }
 },
 "nbformat": 4,
 "nbformat_minor": 0
}