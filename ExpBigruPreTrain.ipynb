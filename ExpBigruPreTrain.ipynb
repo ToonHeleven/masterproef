{
 "cells": [
  {
   "cell_type": "markdown",
   "metadata": {
    "collapsed": true,
    "pycharm": {
     "name": "#%% md\n"
    }
   },
   "source": [
    "# BIGRU model met embeddings\n",
    "## met embedding pre-training"
   ]
  },
  {
   "cell_type": "code",
   "execution_count": 1,
   "outputs": [],
   "source": [
    "from torch import optim\n",
    "from data.dataloader import DatasetLoader, PretrainLoader\n",
    "from torch.utils.data import DataLoader\n",
    "import torch\n",
    "from models.BiGRU import BiGRU\n",
    "from models.PreTrainEmbedding import PreTrainEmbedding\n",
    "from torch import nn\n",
    "from tqdm import tqdm\n",
    "import pandas as pd"
   ],
   "metadata": {
    "collapsed": false,
    "pycharm": {
     "name": "#%%\n"
    }
   }
  },
  {
   "cell_type": "markdown",
   "source": [
    "## 1. Dataset uitlezen"
   ],
   "metadata": {
    "collapsed": false
   }
  },
  {
   "cell_type": "code",
   "execution_count": 2,
   "outputs": [],
   "source": [
    "removeapps = [\"Screen on (locked)\",\n",
    "              \"Screen off (locked)\",\n",
    "              \"Screen on (unlocked)\",\n",
    "              \"Screen off\",\n",
    "              \"Samsung Experience Service\",\n",
    "              \"Package installer\",\n",
    "              \"System UI\",\n",
    "              \"Customisation Service\",\n",
    "              \"Configuration update\",\n",
    "              \"EmergencyManagerService\",\n",
    "              \"DeviceKeystring\",\n",
    "              \"Samsung Keyboard\",\n",
    "              \"HwModuleTest\",\n",
    "              \"Device shutdown\",\n",
    "              \"Device boot\"]\n",
    "pretraindataset = PretrainLoader(\"eventlog/phone_usage_cleaned.csv\",\n",
    "                                 nr_samples=2000, d=900, T=1200,\n",
    "                                 removeapps=removeapps,\n",
    "                                 nr_generated=100000)\n",
    "pretrain_dataloader = DataLoader(pretraindataset, batch_size=128)\n",
    "\n",
    "dataset = DatasetLoader(\"eventlog/phone_usage_cleaned.csv\",\n",
    "                        seq_length=10,\n",
    "                        max_apps=200)\n",
    "dataset.clean(removeapps=removeapps)\n",
    "train_dataloader = DataLoader(dataset)"
   ],
   "metadata": {
    "collapsed": false,
    "pycharm": {
     "name": "#%%\n"
    }
   }
  },
  {
   "cell_type": "markdown",
   "source": [
    "## 2. Embedding pre-train"
   ],
   "metadata": {
    "collapsed": false
   }
  },
  {
   "cell_type": "code",
   "execution_count": 3,
   "outputs": [
    {
     "name": "stdout",
     "output_type": "stream",
     "text": [
      "loss: 1.486\n",
      "Accuracy of the network is: 7.696611253196931\n",
      "loss: 22.544\n",
      "Accuracy of the network is: 14.61616847826087\n",
      "loss: 21.455\n",
      "Accuracy of the network is: 15.40086516943734\n",
      "loss: 21.249\n",
      "Accuracy of the network is: 15.638986572890026\n",
      "loss: 21.135\n",
      "Accuracy of the network is: 15.769511269181585\n"
     ]
    }
   ],
   "source": [
    "# TODO: heeft niet dezeflde accuracy als in tensorflow\n",
    "device = torch.device(\"cuda:0\" if torch.cuda.is_available() else \"cpu\")\n",
    "pretrainembedding = PreTrainEmbedding(max_apps=pretraindataset.nr_apps,\n",
    "                                      src_dim=4)\n",
    "pretrainembedding.to(device=device)\n",
    "criterion = nn.CrossEntropyLoss()\n",
    "optimizer = optim.Adam(pretrainembedding.parameters(), lr=0.0015)\n",
    "epochs = 100\n",
    "running_loss = 0.0\n",
    "total = 0\n",
    "correct = 0\n",
    "for j in range(epochs):\n",
    "    for prev_app_index, next_app_index in pretrain_dataloader:\n",
    "        prev_app_index, next_app_index = prev_app_index.to(device=device), next_app_index.to(device=device)\n",
    "\n",
    "        optimizer.zero_grad()\n",
    "        outputs = pretrainembedding(prev_app_index)\n",
    "        loss = criterion(outputs[0], next_app_index)\n",
    "        loss.backward()\n",
    "        optimizer.step()\n",
    "\n",
    "        total += 128\n",
    "        arg_maxs = torch.argmax(outputs, dim=2)  # collapse cols\n",
    "        num_correct = torch.sum(next_app_index==arg_maxs).item()\n",
    "        correct += num_correct\n",
    "\n",
    "        running_loss += loss.item()\n",
    "    if j%20==0:\n",
    "        print('loss: %.3f' %\n",
    "                  (running_loss / 2000))\n",
    "        running_loss = 0.0\n",
    "        print('Accuracy of the network is: ' + str(100 * correct / total))\n",
    "        total = 0\n",
    "        correct = 0"
   ],
   "metadata": {
    "collapsed": false,
    "pycharm": {
     "name": "#%%\n"
    }
   }
  },
  {
   "cell_type": "markdown",
   "source": [
    "## 3. bigru model aanmaken en trainen"
   ],
   "metadata": {
    "collapsed": false,
    "pycharm": {
     "name": "#%% md\n"
    }
   }
  },
  {
   "cell_type": "code",
   "execution_count": 7,
   "outputs": [],
   "source": [
    "device = torch.device(\"cuda:0\" if torch.cuda.is_available() else \"cpu\")\n",
    "bigru = BiGRU(max_apps=200,\n",
    "              seq_length=10,\n",
    "              n_gru=64)\n",
    "criterion = nn.CrossEntropyLoss()\n",
    "optimizer = optim.Adam(bigru.parameters(), lr=0.0015)\n",
    "bigru.to(device=device)\n",
    "bigru.src_embedding.weight=torch.nn.Parameter(torch.cat((pretrainembedding.src_embedding.weight,\n",
    "                                      bigru.src_embedding.weight[pretraindataset.nr_apps:]),\n",
    "                                     dim=0))"
   ],
   "metadata": {
    "collapsed": false,
    "pycharm": {
     "name": "#%%\n"
    }
   }
  },
  {
   "cell_type": "code",
   "execution_count": 8,
   "outputs": [
    {
     "name": "stderr",
     "output_type": "stream",
     "text": [
      "100%|██████████| 33627/33627 [04:47<00:00, 117.03it/s]\n"
     ]
    },
    {
     "name": "stdout",
     "output_type": "stream",
     "text": [
      "loss: 10.741\n",
      "Accuracy of the network is:71.4875\n",
      "loss: 11.859\n",
      "Accuracy of the network is:64.2625\n",
      "loss: 11.772\n",
      "Accuracy of the network is:64.3\n",
      "loss: 11.783\n",
      "Accuracy of the network is:63.525\n",
      "loss: 10.302\n",
      "Accuracy of the network is:74.3\n",
      "loss: 11.338\n",
      "Accuracy of the network is:71.7\n",
      "loss: 11.188\n",
      "Accuracy of the network is:68.8625\n",
      "loss: 11.363\n",
      "Accuracy of the network is:72.3375\n",
      "loss: 10.610\n",
      "Accuracy of the network is:76.375\n",
      "loss: 11.949\n",
      "Accuracy of the network is:72.425\n",
      "loss: 11.640\n",
      "Accuracy of the network is:73.075\n",
      "loss: 12.703\n",
      "Accuracy of the network is:68.7375\n",
      "loss: 12.989\n",
      "Accuracy of the network is:64.6125\n",
      "loss: 11.088\n",
      "Accuracy of the network is:71.9375\n",
      "loss: 9.902\n",
      "Accuracy of the network is:77.525\n",
      "loss: 10.998\n",
      "Accuracy of the network is:71.975\n"
     ]
    }
   ],
   "source": [
    "running_loss = 0.0\n",
    "running_accuracy_list = []\n",
    "i = 0\n",
    "total = 0\n",
    "correct = 0\n",
    "epochs = 4\n",
    "for prev_apps_indices, curr_app_index in tqdm(train_dataloader):\n",
    "    prev_apps_indices, curr_app_index = prev_apps_indices.to(device), curr_app_index.to(device)\n",
    "\n",
    "    for j in range(epochs):\n",
    "        optimizer.zero_grad()\n",
    "\n",
    "        outputs = bigru(prev_apps_indices[0])\n",
    "\n",
    "        loss = criterion(outputs, curr_app_index)\n",
    "        loss.backward()\n",
    "        optimizer.step()\n",
    "\n",
    "        total += 1\n",
    "        _, predicted = torch.topk(outputs.data, 5)\n",
    "        correct += (curr_app_index in predicted)*1\n",
    "\n",
    "        running_loss += loss.item()\n",
    "\n",
    "    if i % 2000 == 1999:\n",
    "        print('loss: %.3f' %\n",
    "              (running_loss / 2000))\n",
    "        running_loss = 0.0\n",
    "        print('Accuracy of the network is:' + str(100 * correct / total))\n",
    "        running_accuracy_list.append(100 * correct / total)\n",
    "        total = 0\n",
    "        correct = 0\n",
    "    i += 1"
   ],
   "metadata": {
    "collapsed": false,
    "pycharm": {
     "name": "#%%\n"
    }
   }
  },
  {
   "cell_type": "markdown",
   "source": [
    "## 3. Running accuracy opslaan"
   ],
   "metadata": {
    "collapsed": false
   }
  },
  {
   "cell_type": "code",
   "execution_count": 9,
   "outputs": [],
   "source": [
    "AccuracyComparison = pd.read_csv(\"outputdata/accuracycomparison.csv\", index_col=False)\n",
    "AccuracyComparison[\"OnehotPretrain\"] = running_accuracy_list\n",
    "AccuracyComparison.to_csv(\"outputdata/accuracycomparison.csv\", index=False)\n"
   ],
   "metadata": {
    "collapsed": false,
    "pycharm": {
     "name": "#%%\n"
    }
   }
  }
 ],
 "metadata": {
  "kernelspec": {
   "display_name": "Python 3",
   "language": "python",
   "name": "python3"
  },
  "language_info": {
   "codemirror_mode": {
    "name": "ipython",
    "version": 2
   },
   "file_extension": ".py",
   "mimetype": "text/x-python",
   "name": "python",
   "nbconvert_exporter": "python",
   "pygments_lexer": "ipython2",
   "version": "2.7.6"
  }
 },
 "nbformat": 4,
 "nbformat_minor": 0
}