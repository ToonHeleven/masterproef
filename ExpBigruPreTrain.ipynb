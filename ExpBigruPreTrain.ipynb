{
 "cells": [
  {
   "cell_type": "markdown",
   "metadata": {
    "collapsed": true,
    "pycharm": {
     "name": "#%% md\n"
    }
   },
   "source": [
    "# BIGRU model met embeddings\n",
    "## met embedding pre-training"
   ]
  },
  {
   "cell_type": "code",
   "execution_count": null,
   "outputs": [],
   "source": [
    "from torch import optim\n",
    "from data.dataloader import DatasetLoader\n",
    "from torch.utils.data import DataLoader\n",
    "import torch\n",
    "from models.BiGRU import BiGRU\n",
    "from torch import nn\n",
    "from tqdm import tqdm"
   ],
   "metadata": {
    "collapsed": false,
    "pycharm": {
     "name": "#%%\n"
    }
   }
  },
  {
   "cell_type": "markdown",
   "source": [
    "## 1. Dataset uitlezen"
   ],
   "metadata": {
    "collapsed": false
   }
  },
  {
   "cell_type": "code",
   "execution_count": null,
   "outputs": [],
   "source": [
    "dataset = DatasetLoader(\"eventlog/phone_usage_cleaned.csv\", seq_length=10, max_apps=200)\n",
    "removeapps = [\"Screen on (locked)\",\n",
    "              \"Screen off (locked)\",\n",
    "              \"Screen on (unlocked)\",\n",
    "              \"Screen off\",\n",
    "              \"Samsung Experience Service\",\n",
    "              \"Package installer\",\n",
    "              \"System UI\",\n",
    "              \"Customisation Service\",\n",
    "              \"Configuration update\",\n",
    "              \"EmergencyManagerService\",\n",
    "              \"DeviceKeystring\",\n",
    "              \"Samsung Keyboard\",\n",
    "              \"HwModuleTest\",\n",
    "              \"Device shutdown\",\n",
    "              \"Device boot\"]\n",
    "dataset.clean(removeapps)\n",
    "train_dataloader = DataLoader(dataset)"
   ],
   "metadata": {
    "collapsed": false,
    "pycharm": {
     "name": "#%%\n"
    }
   }
  },
  {
   "cell_type": "markdown",
   "source": [
    "## 2. bigru model aanmaken en trainen"
   ],
   "metadata": {
    "collapsed": false,
    "pycharm": {
     "name": "#%% md\n"
    }
   }
  },
  {
   "cell_type": "code",
   "execution_count": null,
   "outputs": [],
   "source": [
    "device = torch.device(\"cuda:0\" if torch.cuda.is_available() else \"cpu\")\n",
    "bigru = BiGRU(max_apps=200,\n",
    "              seq_length=10,\n",
    "              n_gru=64)\n",
    "criterion = nn.CrossEntropyLoss()\n",
    "optimizer = optim.Adam(bigru.parameters(), lr=0.0015)\n",
    "bigru.to(device=device)\n",
    "\n",
    "running_loss = 0.0\n",
    "i = 0\n",
    "total = 0\n",
    "correct = 0\n",
    "epochs = 4\n",
    "for prev_apps_indices, curr_app_index, curr_app_onehot in tqdm(train_dataloader):\n",
    "    prev_apps_indices, curr_app_index = prev_apps_indices.to(device), curr_app_index.to(device)\n",
    "\n",
    "    for j in range(epochs):\n",
    "        optimizer.zero_grad()\n",
    "\n",
    "        outputs = bigru(prev_apps_indices[0])\n",
    "\n",
    "        loss = criterion(outputs, curr_app_index)\n",
    "        loss.backward()\n",
    "        optimizer.step()\n",
    "\n",
    "        total += 1\n",
    "        _, predicted = torch.topk(outputs.data, 5)\n",
    "        correct += (curr_app_index in predicted)*1\n",
    "\n",
    "        running_loss += loss.item()\n",
    "    if i % 2000 == 1999:\n",
    "        print('loss: %.3f' %\n",
    "              (running_loss / 2000))\n",
    "        running_loss = 0.0\n",
    "        print('Accuracy of the network is:' + str(100 * correct / total))\n",
    "        total = 0\n",
    "        correct = 0\n",
    "    i += 1\n"
   ],
   "metadata": {
    "collapsed": false,
    "pycharm": {
     "name": "#%%\n"
    }
   }
  }
 ],
 "metadata": {
  "kernelspec": {
   "display_name": "Python 3",
   "language": "python",
   "name": "python3"
  },
  "language_info": {
   "codemirror_mode": {
    "name": "ipython",
    "version": 2
   },
   "file_extension": ".py",
   "mimetype": "text/x-python",
   "name": "python",
   "nbconvert_exporter": "python",
   "pygments_lexer": "ipython2",
   "version": "2.7.6"
  }
 },
 "nbformat": 4,
 "nbformat_minor": 0
}