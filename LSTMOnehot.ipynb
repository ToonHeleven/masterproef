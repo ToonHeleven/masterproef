{
 "cells": [
  {
   "cell_type": "markdown",
   "metadata": {
    "collapsed": true,
    "pycharm": {
     "name": "#%% md\n"
    }
   },
   "source": [
    "# LSTM model one-hot applicatie inputs"
   ]
  },
  {
   "cell_type": "code",
   "execution_count": 55,
   "outputs": [],
   "source": [
    "from torch import optim\n",
    "from data.dataloader import DatasetLoader\n",
    "from torch.utils.data import DataLoader\n",
    "import torch\n",
    "from models.LSTM import LSTM\n",
    "from torch import nn\n",
    "from tqdm import tqdm\n",
    "import numpy as np\n",
    "import pandas as pd\n",
    "import matplotlib.pyplot as plt"
   ],
   "metadata": {
    "collapsed": false,
    "pycharm": {
     "name": "#%%\n"
    }
   }
  },
  {
   "cell_type": "markdown",
   "source": [
    "## 1. Dataset uitlezen en cleanen"
   ],
   "metadata": {
    "collapsed": false
   }
  },
  {
   "cell_type": "code",
   "execution_count": 56,
   "outputs": [],
   "source": [
    "\"\"\" batch size 16 voor pre-trainen \"\"\"\n",
    "# dataset 1\n",
    "# dataset = DatasetLoader(\"eventlog/phone_usage_cleaned.csv\", seq_length=20)\n",
    "\n",
    "# dataset 2\n",
    "# dataset = DatasetLoader(\"eventlog/phone_usage_cleaned2.csv\", seq_length=20)\n",
    "\n",
    "# dataset 3\n",
    "# dataset = DatasetLoader(\"eventlog/phone_usage_cleaned3.csv\", seq_length=20)\n",
    "\n",
    "removeapps = [\"Screen on (locked)\",\n",
    "              \"Screen off (locked)\",\n",
    "              \"Screen on (unlocked)\",\n",
    "              \"Screen off\",\n",
    "              \"Samsung Experience Service\",\n",
    "              \"Package installer\",\n",
    "              \"System UI\",\n",
    "              \"Customisation Service\",\n",
    "              \"Configuration update\",\n",
    "              \"EmergencyManagerService\",\n",
    "              \"DeviceKeystring\",\n",
    "              \"Samsung Keyboard\",\n",
    "              \"HwModuleTest\",\n",
    "              \"Device shutdown\",\n",
    "              \"Device boot\"\"com.android.systemui\",\n",
    "              \"com.samsung.android.securitylogagent\",\n",
    "              \"com.samsung.android.app.galaxyfinder\",\n",
    "              \"com.samsung.android.incallui\",\n",
    "              \"com.samsung.android.dialer\",\n",
    "              \"com.sec.android.app.simsettingmgr\",\n",
    "              \"com.samsung.android.app.telephonyui\",\n",
    "              \"com.sec.android.wallpapercropper2\",\n",
    "              \"com.samsung.android.kidsinstaller\",\n",
    "              \"com.sec.android.app.soundalive\",\n",
    "              \"com.samsung.android.setting.multisound\",\n",
    "              \"com.wssyncmldm\",\n",
    "              \"com.sec.android.preloadinstaller\",\n",
    "              \"com.samsung.android.game.gametools\",\n",
    "              \"com.android.settings.intelligence\",\n",
    "              \"com.samsung.android.app.smartcapture\",\n",
    "              \"com.samsung.android.visionintelligence\",\n",
    "              \"com.samsung.android.MtpApplication\",\n",
    "              \"com.android.captiveportallogin\",\n",
    "              \"com.samsung.accessibility\",\n",
    "              \"com.mgoogle.android.gms\",\n",
    "              \"com.android.providers.media\",\n",
    "              \"com.android.server.telecom\",\n",
    "              \"com.diotek.sec.lookup.dictionary\",\n",
    "              \"Permissions Controller\",\n",
    "              \"com.samsung.app.newtrim\",\n",
    "              \"S Suggest\",\n",
    "              \"com.samsung.android.mdx.quickboard\",\n",
    "              \"com.osp.app.signin\",\n",
    "              \"Tool voor gegevensherstel\",\n",
    "              \"com.samsung.android.bixby.agent\",\n",
    "              \"DocumentsUI\",\n",
    "              \"com.samsung.android.bluelightfilter\",\n",
    "              \"android.instant_app\",\n",
    "              \"Samsung Cloud Wear\",\n",
    "              \"com.samsung.android.svoiceime\",\n",
    "              \"com.samsung.android.rubin.app\",\n",
    "              \"com.samsung.android.honeyboard\",\n",
    "              \"Samsung Global Goals\",\n",
    "              \"com.samsung.android.motionphoto.viewer\",\n",
    "              \"com.samsung.android.net.wifi.wifiguider\"\"\"\n",
    "              \"com.aura.oobe.samsung.gl\",\n",
    "              \"com.samsung.android.secsoundpicker\",\n",
    "              \"com.samsung.android.service.tagservice\",\n",
    "              \"com.samsung.android.arzone\",\n",
    "              \"com.samsung.android.game.gamehome\",\n",
    "              \"com.sec.android.app.vepreload\",\n",
    "              \"Android\",\n",
    "              \"com.samsung.android.smartmirroring\",\n",
    "              \"Captive Portal\",\n",
    "              \"com.android.systemui\",\n",
    "              \"OnePlus Launcher\",\n",
    "              \"com.oneplus.opbackup\",\n",
    "              \"com.android.documentsui\",\n",
    "              \"com.android.mms\",\n",
    "              \"com.google.android.packageinstaller\",\n",
    "              \"com.android.companiondevicemanager\",\n",
    "              \"com.android.server.telecom\",\n",
    "              \"com.android.captiveportallogin\",\n",
    "              \"com.android.printspooler\",\n",
    "              \"com.oneplus.healthcheck\",\n",
    "              \"com.android.hotwordenrollment.okgoogle\",\n",
    "              \"com.android.emergency\",\n",
    "              \"Gboard: het Google-toetsenbord\",\n",
    "              \"com.android.vpndialogs\",\n",
    "              \"com.oneplus.security\",\n",
    "              \"com.qualcomm.qti.networksetting\",\n",
    "              \"com.android.settings.intelligence\",\n",
    "              \"Device ID\",\n",
    "              \"com.android.providers.downloads.ui\",\n",
    "              \"com.android.bips\",\n",
    "              \"com.apkpure.aegon\",\n",
    "              \"com.android.nfc\",\n",
    "              \"OnePlus Nord AR\",\n",
    "              \"com.android.packageinstaller\",\n",
    "              \"com.bluestacks.appmart\",\n",
    "              \"com.uncube.account\",\n",
    "              \"com.android.provision\",\n",
    "              \"com.android.certinstaller\",\n",
    "              \"EXT Services\",\n",
    "              \"DocumentsUI\",\n",
    "              \"Permissions Controller\",\n",
    "              \"com.oneplus.wifiapsettings\",\n",
    "              \"Telefoon van Google\",\n",
    "              \"com.google.android.setupwizard\",\n",
    "              \"com.oneplus.setupwizard\",\n",
    "              \"Search Engine Selector\",\n",
    "              \"Android\",\n",
    "              \"com.android.stk\",\n",
    "              \"Captive Portal\",\n",
    "              \"com.android.systemui\"]\n",
    "dataset.clean(removeapps)\n",
    "\n",
    "train_dataloader = DataLoader(dataset, batch_size=16)"
   ],
   "metadata": {
    "collapsed": false,
    "pycharm": {
     "name": "#%%\n"
    }
   }
  },
  {
   "cell_type": "markdown",
   "source": [
    "## 2. LSTM model aanmaken en pre-trainen"
   ],
   "metadata": {
    "collapsed": false,
    "pycharm": {
     "name": "#%% md\n"
    }
   }
  },
  {
   "cell_type": "code",
   "execution_count": 57,
   "outputs": [
    {
     "data": {
      "text/plain": "LSTM(\n  (src_embedding): Embedding(200, 200)\n  (lstm): LSTM(200, 128, batch_first=True)\n  (fc1): Linear(in_features=128, out_features=200, bias=True)\n)"
     },
     "execution_count": 57,
     "metadata": {},
     "output_type": "execute_result"
    }
   ],
   "source": [
    "\"\"\" stel device in als CUDA indien mogelijk \"\"\"\n",
    "device = torch.device(\"cuda:0\" if torch.cuda.is_available() else \"cpu\")\n",
    "\n",
    "\"\"\" Gebruikt LSTM klasse\n",
    "    Vervangt embedding matrix door eenheidsmatrix met vaste gewichten\n",
    "    Trainingsnelheid zal iets lager zijn dan model met echte one-hot input\n",
    "\"\"\"\n",
    "lstm = LSTM(max_apps=200,\n",
    "            n_lstm=128,\n",
    "            src_dim=200,\n",
    "            bidirectional=False)\n",
    "criterion = nn.CrossEntropyLoss()\n",
    "optimizer = optim.Adam(lstm.parameters(), lr=0.001)\n",
    "\n",
    "main_diagonal = torch.ones(size=[200])\n",
    "lstm.src_embedding.weight = torch.nn.Parameter(torch.diag(input=main_diagonal))\n",
    "lstm.src_embedding.weight.requires_grad = False\n",
    "\n",
    "lstm.to(device=device)"
   ],
   "metadata": {
    "collapsed": false,
    "pycharm": {
     "name": "#%%\n"
    }
   }
  },
  {
   "cell_type": "code",
   "execution_count": 58,
   "outputs": [],
   "source": [
    "epochs = 10\n",
    "training_samples = 1600\n",
    "testing_samples = 400\n",
    "\n",
    "traincorrect = 0\n",
    "valcorrect = 0\n",
    "\n",
    "trainacchistory = []\n",
    "trainlosshistory = []\n",
    "valacchistory = []\n",
    "vallosshistory = []\n",
    "epoch = []\n",
    "\n",
    "for j in range(epochs):\n",
    "\n",
    "    sample = 0\n",
    "    traincorrect = 0\n",
    "    trainloss = 0\n",
    "    valcorrect = 0\n",
    "    valloss = 0\n",
    "\n",
    "    for prev_apps_indices, curr_app_index in train_dataloader:\n",
    "        prev_apps_indices, curr_app_index = prev_apps_indices.to(device), curr_app_index.to(device)\n",
    "\n",
    "        h0, c0 = lstm.init_hidden(batch_size=16)\n",
    "        h = (h0.to(device), c0.to(device))\n",
    "\n",
    "        # Niet meer dan 1600 eerste samples gebruiken\n",
    "        if sample < training_samples:\n",
    "            # Batch size increment\n",
    "            sample+=prev_apps_indices.shape[0]\n",
    "\n",
    "            # Reset gradient\n",
    "            optimizer.zero_grad()\n",
    "\n",
    "            # Output continue logit vector\n",
    "            outputs, h = lstm(prev_apps_indices, h)\n",
    "\n",
    "            # Cat Crossentropy met logsoftmax\n",
    "            loss = criterion(outputs, curr_app_index)\n",
    "\n",
    "            trainloss += loss.item()*prev_apps_indices.shape[0]\n",
    "\n",
    "            # Optimize weights\n",
    "            loss.backward()\n",
    "            optimizer.step()\n",
    "\n",
    "            _, predicted = torch.max(outputs.data, 1)\n",
    "            traincorrect += (predicted == curr_app_index).sum().item()\n",
    "\n",
    "        elif training_samples <= sample < training_samples + testing_samples:\n",
    "            # Batch size increment\n",
    "            sample+=prev_apps_indices.shape[0]\n",
    "\n",
    "            # Reset gradient\n",
    "            optimizer.zero_grad()\n",
    "\n",
    "            # Output continue logit vector\n",
    "            outputs, h = lstm(prev_apps_indices, h)\n",
    "\n",
    "            # Cat Crossentropy met logsoftmax\n",
    "            loss = criterion(outputs, curr_app_index)\n",
    "\n",
    "            valloss += loss.item()*prev_apps_indices.shape[0]\n",
    "\n",
    "            _, predicted = torch.max(outputs.data, 1)\n",
    "            valcorrect += (predicted == curr_app_index).sum().item()\n",
    "\n",
    "        else:\n",
    "            break\n",
    "\n",
    "    trainacchistory.append(traincorrect/(training_samples))\n",
    "    trainlosshistory.append(trainloss/(training_samples))\n",
    "    valacchistory.append(valcorrect/(testing_samples))\n",
    "    vallosshistory.append(valloss/(testing_samples))\n",
    "    epoch.append(j)\n",
    "\n",
    "\n",
    "    # print(\"epoch nr: \" +  str(j))\n",
    "    # print(traincorrect/(training_samples))\n",
    "    # print(valcorrect/(testing_samples))\n",
    "    # print()"
   ],
   "metadata": {
    "collapsed": false,
    "pycharm": {
     "name": "#%%\n"
    }
   }
  },
  {
   "cell_type": "markdown",
   "source": [
    "## 3. Plot pre-training history"
   ],
   "metadata": {
    "collapsed": false
   }
  },
  {
   "cell_type": "code",
   "execution_count": 59,
   "outputs": [
    {
     "data": {
      "text/plain": "<Figure size 432x288 with 1 Axes>",
      "image/png": "[encoded data removed]"
     },
     "metadata": {
      "needs_background": "light"
     },
     "output_type": "display_data"
    },
    {
     "name": "stdout",
     "output_type": "stream",
     "text": [
      "0.305\n",
      "2.919115400314331\n"
     ]
    },
    {
     "data": {
      "text/plain": "<Figure size 432x288 with 1 Axes>",
      "image/png": "[encoded data removed]"
     },
     "metadata": {
      "needs_background": "light"
     },
     "output_type": "display_data"
    }
   ],
   "source": [
    "plt.plot(trainacchistory, label=\"training accuraatheid\")\n",
    "plt.plot(valacchistory, label=\"testing accuraatheid\")\n",
    "plt.legend()\n",
    "plt.xlabel('epochs')\n",
    "plt.ylabel('accuraatheid')\n",
    "plt.xticks(epoch)\n",
    "plt.savefig(fname=\"outputdata/bigruonehotpretrainacc.png\")\n",
    "plt.show()\n",
    "print(max(valacchistory))\n",
    "\n",
    "plt.plot(trainlosshistory, label=\"training loss\")\n",
    "plt.plot(vallosshistory, label=\"testing loss\")\n",
    "plt.legend()\n",
    "plt.xlabel('epochs')\n",
    "plt.ylabel('loss')\n",
    "plt.xticks(epoch)\n",
    "plt.savefig(fname=\"outputdata/bigruonehotpretrainloss.png\")\n",
    "plt.show()\n",
    "print(min(vallosshistory))"
   ],
   "metadata": {
    "collapsed": false,
    "pycharm": {
     "name": "#%%\n"
    }
   }
  },
  {
   "cell_type": "markdown",
   "source": [
    "## 4. LSTM model online learning"
   ],
   "metadata": {
    "collapsed": false
   }
  },
  {
   "cell_type": "code",
   "execution_count": 60,
   "outputs": [],
   "source": [
    "\"\"\" Dataloader mag nu niet langer batches produceren \"\"\"\n",
    "train_dataloader = DataLoader(dataset, batch_size=1)"
   ],
   "metadata": {
    "collapsed": false,
    "pycharm": {
     "name": "#%%\n"
    }
   }
  },
  {
   "cell_type": "code",
   "execution_count": 61,
   "outputs": [
    {
     "name": "stderr",
     "output_type": "stream",
     "text": [
      "100%|██████████| 33707/33707 [01:10<00:00, 475.39it/s]\n"
     ]
    }
   ],
   "source": [
    "running_accuracy_list = []\n",
    "sample = 0\n",
    "\n",
    "h0, c0 = lstm.init_hidden(batch_size=1)\n",
    "h = (h0.to(device), c0.to(device))\n",
    "\n",
    "for prev_apps_indices, curr_app_index in tqdm(train_dataloader):\n",
    "    prev_apps_indices, curr_app_index = prev_apps_indices.to(device), curr_app_index.to(device)\n",
    "\n",
    "    # Online learning, 1 sample\n",
    "    sample += 1\n",
    "\n",
    "    if sample > training_samples + testing_samples - 19:\n",
    "\n",
    "        # Make prediction\n",
    "        outputs, h = lstm(prev_apps_indices, h)\n",
    "\n",
    "        # Measure accuracy top-k\n",
    "        _, predicted = torch.topk(outputs.data, 5)\n",
    "        running_accuracy_list.append(curr_app_index in predicted)\n",
    "\n",
    "        # Calculate loss\n",
    "        loss = criterion(outputs, curr_app_index)\n",
    "\n",
    "        # Cat Crossentropy met logsoftmax\n",
    "        loss.backward()\n",
    "        optimizer.step()\n",
    "\n",
    "        # Reset gradient\n",
    "        optimizer.zero_grad()"
   ],
   "metadata": {
    "collapsed": false,
    "pycharm": {
     "name": "#%%\n"
    }
   }
  },
  {
   "cell_type": "code",
   "execution_count": 62,
   "outputs": [
    {
     "name": "stdout",
     "output_type": "stream",
     "text": [
      "0.7310723066254807\n",
      "31726\n"
     ]
    }
   ],
   "source": [
    "print(sum(running_accuracy_list)/len(running_accuracy_list))\n",
    "print(len(running_accuracy_list))"
   ],
   "metadata": {
    "collapsed": false,
    "pycharm": {
     "name": "#%%\n"
    }
   }
  },
  {
   "cell_type": "markdown",
   "source": [
    "## 3. Running accuracy opslaan"
   ],
   "metadata": {
    "collapsed": false
   }
  },
  {
   "cell_type": "code",
   "execution_count": 63,
   "outputs": [
    {
     "data": {
      "text/plain": "     MRU   MFU  onehotlstm64  onehotlstm128\n0   True  True          True           True\n1   True  True          True           True\n2   True  True          True           True\n3  False  True          True           True\n4   True  True          True           True",
      "text/html": "<div>\n<style scoped>\n    .dataframe tbody tr th:only-of-type {\n        vertical-align: middle;\n    }\n\n    .dataframe tbody tr th {\n        vertical-align: top;\n    }\n\n    .dataframe thead th {\n        text-align: right;\n    }\n</style>\n<table border=\"1\" class=\"dataframe\">\n  <thead>\n    <tr style=\"text-align: right;\">\n      <th></th>\n      <th>MRU</th>\n      <th>MFU</th>\n      <th>onehotlstm64</th>\n      <th>onehotlstm128</th>\n    </tr>\n  </thead>\n  <tbody>\n    <tr>\n      <th>0</th>\n      <td>True</td>\n      <td>True</td>\n      <td>True</td>\n      <td>True</td>\n    </tr>\n    <tr>\n      <th>1</th>\n      <td>True</td>\n      <td>True</td>\n      <td>True</td>\n      <td>True</td>\n    </tr>\n    <tr>\n      <th>2</th>\n      <td>True</td>\n      <td>True</td>\n      <td>True</td>\n      <td>True</td>\n    </tr>\n    <tr>\n      <th>3</th>\n      <td>False</td>\n      <td>True</td>\n      <td>True</td>\n      <td>True</td>\n    </tr>\n    <tr>\n      <th>4</th>\n      <td>True</td>\n      <td>True</td>\n      <td>True</td>\n      <td>True</td>\n    </tr>\n  </tbody>\n</table>\n</div>"
     },
     "execution_count": 63,
     "metadata": {},
     "output_type": "execute_result"
    }
   ],
   "source": [
    "# dataset 1\n",
    "# AccuracyComparison = pd.read_csv(\"outputdata/accuracycomparison.csv\", index_col=False)\n",
    "# AccuracyComparison[\"onehotlstm128\"] = running_accuracy_list\n",
    "# AccuracyComparison.to_csv(\"outputdata/accuracycomparison.csv\", index=False)\n",
    "# AccuracyComparison.head()\n",
    "\n",
    "# dataset 2\n",
    "# AccuracyComparison = pd.read_csv(\"outputdata/accuracycomparison2.csv\", index_col=False)\n",
    "# AccuracyComparison[\"onehotlstm128\"] = running_accuracy_list\n",
    "# AccuracyComparison.to_csv(\"outputdata/accuracycomparison2.csv\", index=False)\n",
    "# AccuracyComparison.head()\n",
    "\n",
    "# dataset 3\n",
    "# AccuracyComparison = pd.read_csv(\"outputdata/accuracycomparison3.csv\", index_col=False)\n",
    "# AccuracyComparison[\"onehotlstm128\"] = running_accuracy_list\n",
    "# AccuracyComparison.to_csv(\"outputdata/accuracycomparison3.csv\", index=False)\n",
    "# AccuracyComparison.head()\n"
   ],
   "metadata": {
    "collapsed": false,
    "pycharm": {
     "name": "#%%\n"
    }
   }
  }
 ],
 "metadata": {
  "kernelspec": {
   "display_name": "Python 3",
   "language": "python",
   "name": "python3"
  },
  "language_info": {
   "codemirror_mode": {
    "name": "ipython",
    "version": 2
   },
   "file_extension": ".py",
   "mimetype": "text/x-python",
   "name": "python",
   "nbconvert_exporter": "python",
   "pygments_lexer": "ipython2",
   "version": "2.7.6"
  }
 },
 "nbformat": 4,
 "nbformat_minor": 0
}