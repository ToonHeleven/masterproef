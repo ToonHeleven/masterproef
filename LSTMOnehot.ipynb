{
 "cells": [
  {
   "cell_type": "markdown",
   "metadata": {
    "collapsed": true,
    "pycharm": {
     "name": "#%% md\n"
    }
   },
   "source": [
    "# LSTM model one-hot applicatie inputs"
   ]
  },
  {
   "cell_type": "code",
   "execution_count": 39,
   "outputs": [],
   "source": [
    "from torch import optim\n",
    "from data.dataloader import DatasetLoader\n",
    "from torch.utils.data import DataLoader\n",
    "import torch\n",
    "from models.LSTM import LSTM\n",
    "from torch import nn\n",
    "from tqdm import tqdm\n",
    "import numpy as np\n",
    "import pandas as pd\n",
    "import matplotlib.pyplot as plt"
   ],
   "metadata": {
    "collapsed": false,
    "pycharm": {
     "name": "#%%\n"
    }
   }
  },
  {
   "cell_type": "markdown",
   "source": [
    "## 1. Dataset uitlezen en cleanen"
   ],
   "metadata": {
    "collapsed": false
   }
  },
  {
   "cell_type": "code",
   "execution_count": 40,
   "outputs": [],
   "source": [
    "\"\"\" batch size 16 voor pre-trainen \"\"\"\n",
    "dataset = DatasetLoader(\"eventlog/phone_usage_cleaned.csv\", seq_length=10)\n",
    "removeapps = [\"Screen on (locked)\",\n",
    "              \"Screen off (locked)\",\n",
    "              \"Screen on (unlocked)\",\n",
    "              \"Screen off\",\n",
    "              \"Samsung Experience Service\",\n",
    "              \"Package installer\",\n",
    "              \"System UI\",\n",
    "              \"Customisation Service\",\n",
    "              \"Configuration update\",\n",
    "              \"EmergencyManagerService\",\n",
    "              \"DeviceKeystring\",\n",
    "              \"Samsung Keyboard\",\n",
    "              \"HwModuleTest\",\n",
    "              \"Device shutdown\",\n",
    "              \"Device boot\"]\n",
    "dataset.clean(removeapps)\n",
    "train_dataloader = DataLoader(dataset, batch_size=16)"
   ],
   "metadata": {
    "collapsed": false,
    "pycharm": {
     "name": "#%%\n"
    }
   }
  },
  {
   "cell_type": "markdown",
   "source": [
    "## 2. LSTM model aanmaken en pre-trainen"
   ],
   "metadata": {
    "collapsed": false,
    "pycharm": {
     "name": "#%% md\n"
    }
   }
  },
  {
   "cell_type": "code",
   "execution_count": 41,
   "outputs": [
    {
     "data": {
      "text/plain": "LSTM(\n  (src_embedding): Embedding(200, 200)\n  (lstm): LSTM(200, 64, batch_first=True)\n  (fc1): Linear(in_features=64, out_features=200, bias=True)\n)"
     },
     "execution_count": 41,
     "metadata": {},
     "output_type": "execute_result"
    }
   ],
   "source": [
    "\"\"\" stel device in als CUDA indien mogelijk \"\"\"\n",
    "device = torch.device(\"cuda:0\" if torch.cuda.is_available() else \"cpu\")\n",
    "\n",
    "\"\"\" Gebruikt LSTM klasse\n",
    "    Vervangt embedding matrix door eenheidsmatrix met vaste gewichten\n",
    "    Trainingsnelheid zal iets lager zijn dan model met echte one-hot input\n",
    "\"\"\"\n",
    "lstm = LSTM(max_apps=200,\n",
    "            n_lstm=64,\n",
    "            src_dim=200,\n",
    "            bidirectional=False)\n",
    "criterion = nn.CrossEntropyLoss()\n",
    "optimizer = optim.Adam(lstm.parameters(), lr=0.001)\n",
    "\n",
    "main_diagonal = torch.ones(size=[200])\n",
    "lstm.src_embedding.weight = torch.nn.Parameter(torch.diag(input=main_diagonal))\n",
    "lstm.src_embedding.weight.requires_grad = False\n",
    "\n",
    "lstm.to(device=device)"
   ],
   "metadata": {
    "collapsed": false,
    "pycharm": {
     "name": "#%%\n"
    }
   }
  },
  {
   "cell_type": "code",
   "execution_count": 42,
   "outputs": [],
   "source": [
    "epochs = 10\n",
    "training_samples = 1600\n",
    "testing_samples = 400\n",
    "\n",
    "traincorrect = 0\n",
    "valcorrect = 0\n",
    "\n",
    "trainacchistory = []\n",
    "trainlosshistory = []\n",
    "valacchistory = []\n",
    "vallosshistory = []\n",
    "epoch = []\n",
    "\n",
    "for j in range(epochs):\n",
    "\n",
    "    sample = 0\n",
    "    traincorrect = 0\n",
    "    trainloss = 0\n",
    "    valcorrect = 0\n",
    "    valloss = 0\n",
    "\n",
    "    for prev_apps_indices, curr_app_index in train_dataloader:\n",
    "        prev_apps_indices, curr_app_index = prev_apps_indices.to(device), curr_app_index.to(device)\n",
    "\n",
    "        h0, c0 = lstm.init_hidden(batch_size=16)\n",
    "        h = (h0.to(device), c0.to(device))\n",
    "\n",
    "        # Niet meer dan 1600 eerste samples gebruiken\n",
    "        if sample < training_samples:\n",
    "            # Batch size increment\n",
    "            sample+=prev_apps_indices.shape[0]\n",
    "\n",
    "            # Reset gradient\n",
    "            optimizer.zero_grad()\n",
    "\n",
    "            # Output continue logit vector\n",
    "            outputs, h = lstm(prev_apps_indices, h)\n",
    "\n",
    "            # Cat Crossentropy met logsoftmax\n",
    "            loss = criterion(outputs, curr_app_index)\n",
    "\n",
    "            trainloss += loss.item()*prev_apps_indices.shape[0]\n",
    "\n",
    "            # Optimize weights\n",
    "            loss.backward()\n",
    "            optimizer.step()\n",
    "\n",
    "            _, predicted = torch.max(outputs.data, 1)\n",
    "            traincorrect += (predicted == curr_app_index).sum().item()\n",
    "\n",
    "        elif training_samples <= sample < training_samples + testing_samples:\n",
    "            # Batch size increment\n",
    "            sample+=prev_apps_indices.shape[0]\n",
    "\n",
    "            # Reset gradient\n",
    "            optimizer.zero_grad()\n",
    "\n",
    "            # Output continue logit vector\n",
    "            outputs, h = lstm(prev_apps_indices, h)\n",
    "\n",
    "            # Cat Crossentropy met logsoftmax\n",
    "            loss = criterion(outputs, curr_app_index)\n",
    "\n",
    "            valloss += loss.item()*prev_apps_indices.shape[0]\n",
    "\n",
    "            _, predicted = torch.max(outputs.data, 1)\n",
    "            valcorrect += (predicted == curr_app_index).sum().item()\n",
    "\n",
    "        else:\n",
    "            break\n",
    "\n",
    "    trainacchistory.append(traincorrect/(training_samples))\n",
    "    trainlosshistory.append(trainloss/(training_samples))\n",
    "    valacchistory.append(valcorrect/(testing_samples))\n",
    "    vallosshistory.append(valloss/(testing_samples))\n",
    "    epoch.append(j)\n",
    "\n",
    "\n",
    "    # print(\"epoch nr: \" +  str(j))\n",
    "    # print(traincorrect/(training_samples))\n",
    "    # print(valcorrect/(testing_samples))\n",
    "    # print()"
   ],
   "metadata": {
    "collapsed": false,
    "pycharm": {
     "name": "#%%\n"
    }
   }
  },
  {
   "cell_type": "markdown",
   "source": [
    "## 3. Plot pre-training history"
   ],
   "metadata": {
    "collapsed": false
   }
  },
  {
   "cell_type": "code",
   "execution_count": 43,
   "outputs": [
    {
     "data": {
      "text/plain": "<Figure size 432x288 with 1 Axes>",
      "image/png": "[encoded data removed]"
     },
     "metadata": {
      "needs_background": "light"
     },
     "output_type": "display_data"
    },
    {
     "name": "stdout",
     "output_type": "stream",
     "text": [
      "0.2925\n",
      "2.818228850364685\n"
     ]
    },
    {
     "data": {
      "text/plain": "<Figure size 432x288 with 1 Axes>",
      "image/png": "[encoded data removed]"
     },
     "metadata": {
      "needs_background": "light"
     },
     "output_type": "display_data"
    }
   ],
   "source": [
    "plt.plot(trainacchistory, label=\"training accuraatheid\")\n",
    "plt.plot(valacchistory, label=\"testing accuraatheid\")\n",
    "plt.legend()\n",
    "plt.xlabel('epochs')\n",
    "plt.ylabel('accuraatheid')\n",
    "plt.xticks(epoch)\n",
    "plt.savefig(fname=\"outputdata/bigruonehotpretrainacc.png\")\n",
    "plt.show()\n",
    "print(max(valacchistory))\n",
    "\n",
    "plt.plot(trainlosshistory, label=\"training loss\")\n",
    "plt.plot(vallosshistory, label=\"testing loss\")\n",
    "plt.legend()\n",
    "plt.xlabel('epochs')\n",
    "plt.ylabel('loss')\n",
    "plt.xticks(epoch)\n",
    "plt.savefig(fname=\"outputdata/bigruonehotpretrainloss.png\")\n",
    "plt.show()\n",
    "print(min(vallosshistory))"
   ],
   "metadata": {
    "collapsed": false,
    "pycharm": {
     "name": "#%%\n"
    }
   }
  },
  {
   "cell_type": "markdown",
   "source": [
    "## 4. LSTM model online learning"
   ],
   "metadata": {
    "collapsed": false
   }
  },
  {
   "cell_type": "code",
   "execution_count": 44,
   "outputs": [],
   "source": [
    "\"\"\" Dataloader mag nu niet langer batches produceren \"\"\"\n",
    "train_dataloader = DataLoader(dataset, batch_size=1)"
   ],
   "metadata": {
    "collapsed": false,
    "pycharm": {
     "name": "#%%\n"
    }
   }
  },
  {
   "cell_type": "code",
   "execution_count": 45,
   "outputs": [
    {
     "name": "stderr",
     "output_type": "stream",
     "text": [
      "100%|██████████| 33627/33627 [00:58<00:00, 573.36it/s]\n"
     ]
    }
   ],
   "source": [
    "running_accuracy_list = []\n",
    "sample = 0\n",
    "\n",
    "h0, c0 = lstm.init_hidden(batch_size=1)\n",
    "h = (h0.to(device), c0.to(device))\n",
    "\n",
    "for prev_apps_indices, curr_app_index in tqdm(train_dataloader):\n",
    "    prev_apps_indices, curr_app_index = prev_apps_indices.to(device), curr_app_index.to(device)\n",
    "\n",
    "    # Online learning, 1 sample\n",
    "    sample += 1\n",
    "\n",
    "    if sample > training_samples + testing_samples - 9:\n",
    "\n",
    "        # Make prediction\n",
    "        outputs, h = lstm(prev_apps_indices, h)\n",
    "\n",
    "        # Measure accuracy top-k\n",
    "        _, predicted = torch.topk(outputs.data, 5)\n",
    "        running_accuracy_list.append(curr_app_index in predicted)\n",
    "\n",
    "        # Calculate loss\n",
    "        loss = criterion(outputs, curr_app_index)\n",
    "\n",
    "        # Cat Crossentropy met logsoftmax\n",
    "        loss.backward()\n",
    "        optimizer.step()\n",
    "\n",
    "        # Reset gradient\n",
    "        optimizer.zero_grad()"
   ],
   "metadata": {
    "collapsed": false,
    "pycharm": {
     "name": "#%%\n"
    }
   }
  },
  {
   "cell_type": "code",
   "execution_count": 46,
   "outputs": [
    {
     "name": "stdout",
     "output_type": "stream",
     "text": [
      "0.731887722847389\n",
      "31636\n"
     ]
    }
   ],
   "source": [
    "print(sum(running_accuracy_list)/len(running_accuracy_list))\n",
    "print(len(running_accuracy_list))"
   ],
   "metadata": {
    "collapsed": false,
    "pycharm": {
     "name": "#%%\n"
    }
   }
  },
  {
   "cell_type": "markdown",
   "source": [
    "## 3. Running accuracy opslaan"
   ],
   "metadata": {
    "collapsed": false
   }
  },
  {
   "cell_type": "code",
   "execution_count": 28,
   "outputs": [
    {
     "data": {
      "text/plain": "     MFU    MRU  onehotbigru  onehotlstm128  onehotlstm64  onehotgru64  \\\n0   True   True         True           True          True         True   \n1  False  False        False          False         False        False   \n2  False   True        False          False         False        False   \n3  False   True        False          False         False        False   \n4  False   True        False          False         False        False   \n\n   onehotgru128  \n0          True  \n1         False  \n2         False  \n3         False  \n4         False  ",
      "text/html": "<div>\n<style scoped>\n    .dataframe tbody tr th:only-of-type {\n        vertical-align: middle;\n    }\n\n    .dataframe tbody tr th {\n        vertical-align: top;\n    }\n\n    .dataframe thead th {\n        text-align: right;\n    }\n</style>\n<table border=\"1\" class=\"dataframe\">\n  <thead>\n    <tr style=\"text-align: right;\">\n      <th></th>\n      <th>MFU</th>\n      <th>MRU</th>\n      <th>onehotbigru</th>\n      <th>onehotlstm128</th>\n      <th>onehotlstm64</th>\n      <th>onehotgru64</th>\n      <th>onehotgru128</th>\n    </tr>\n  </thead>\n  <tbody>\n    <tr>\n      <th>0</th>\n      <td>True</td>\n      <td>True</td>\n      <td>True</td>\n      <td>True</td>\n      <td>True</td>\n      <td>True</td>\n      <td>True</td>\n    </tr>\n    <tr>\n      <th>1</th>\n      <td>False</td>\n      <td>False</td>\n      <td>False</td>\n      <td>False</td>\n      <td>False</td>\n      <td>False</td>\n      <td>False</td>\n    </tr>\n    <tr>\n      <th>2</th>\n      <td>False</td>\n      <td>True</td>\n      <td>False</td>\n      <td>False</td>\n      <td>False</td>\n      <td>False</td>\n      <td>False</td>\n    </tr>\n    <tr>\n      <th>3</th>\n      <td>False</td>\n      <td>True</td>\n      <td>False</td>\n      <td>False</td>\n      <td>False</td>\n      <td>False</td>\n      <td>False</td>\n    </tr>\n    <tr>\n      <th>4</th>\n      <td>False</td>\n      <td>True</td>\n      <td>False</td>\n      <td>False</td>\n      <td>False</td>\n      <td>False</td>\n      <td>False</td>\n    </tr>\n  </tbody>\n</table>\n</div>"
     },
     "execution_count": 28,
     "metadata": {},
     "output_type": "execute_result"
    }
   ],
   "source": [
    "AccuracyComparison = pd.read_csv(\"outputdata/accuracycomparison.csv\", index_col=False)\n",
    "AccuracyComparison[\"onehotlstm64\"] = running_accuracy_list\n",
    "AccuracyComparison.to_csv(\"outputdata/accuracycomparison.csv\", index=False)\n",
    "AccuracyComparison.head()\n"
   ],
   "metadata": {
    "collapsed": false,
    "pycharm": {
     "name": "#%%\n"
    }
   }
  }
 ],
 "metadata": {
  "kernelspec": {
   "display_name": "Python 3",
   "language": "python",
   "name": "python3"
  },
  "language_info": {
   "codemirror_mode": {
    "name": "ipython",
    "version": 2
   },
   "file_extension": ".py",
   "mimetype": "text/x-python",
   "name": "python",
   "nbconvert_exporter": "python",
   "pygments_lexer": "ipython2",
   "version": "2.7.6"
  }
 },
 "nbformat": 4,
 "nbformat_minor": 0
}